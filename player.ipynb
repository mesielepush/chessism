{
 "cells": [
  {
   "cell_type": "code",
   "execution_count": 6,
   "id": "8d26453d-7761-484d-a682-3a4b4b800a38",
   "metadata": {},
   "outputs": [],
   "source": [
    "import json\n",
    "import pandas as pd\n",
    "import numpy as np\n",
    "from database.operations.chess_com_api import get_profile\n",
    "import requests\n",
    "from dotenv import load_dotenv\n",
    "import os\n",
    "import psycopg2\n",
    "from bs4 import BeautifulSoup\n",
    "import joblib\n",
    "from database.operations.download_games import download_months\n",
    "from database.operations.players import read_oponents, read_all_players\n",
    "from database.database.db_interface import DBInterface\n",
    "from database.database.models import Player, Game\n",
    "from database.database.engine import DBSession\n",
    "from database.operations.models import PlayerCreateData"
   ]
  },
  {
   "cell_type": "code",
   "execution_count": 7,
   "id": "232b66be-6e1c-41a6-ae61-c895ebd328ac",
   "metadata": {},
   "outputs": [],
   "source": [
    "profile= {'player_name':'pipi'}\n",
    "profile = PlayerCreateData(**profile)"
   ]
  },
  {
   "cell_type": "code",
   "execution_count": 8,
   "id": "63539d66-011f-4f14-a928-18eb468023d7",
   "metadata": {},
   "outputs": [
    {
     "data": {
      "text/plain": [
       "PlayerCreateData(player_name='pipi', name='None', url='None', title='None', avatar='None', player_id=0, followers=0, country='None', location='None', joined=0, status='None', is_streamer=False, twitch_url='None', verified=False, league='None')"
      ]
     },
     "execution_count": 8,
     "metadata": {},
     "output_type": "execute_result"
    }
   ],
   "source": [
    "profile"
   ]
  },
  {
   "cell_type": "code",
   "execution_count": 22,
   "id": "daefe5cb-86dc-4cca-81e0-6e47873d1e60",
   "metadata": {
    "tags": []
   },
   "outputs": [],
   "source": [
    "d = joblib.load('games.pkl')"
   ]
  },
  {
   "cell_type": "code",
   "execution_count": 23,
   "id": "42b369ae-829f-4cc7-99f8-44c510c86dc2",
   "metadata": {
    "tags": []
   },
   "outputs": [
    {
     "ename": "TypeError",
     "evalue": "object of type 'NoneType' has no len()",
     "output_type": "error",
     "traceback": [
      "\u001b[0;31m---------------------------------------------------------------------------\u001b[0m",
      "\u001b[0;31mTypeError\u001b[0m                                 Traceback (most recent call last)",
      "Cell \u001b[0;32mIn[23], line 1\u001b[0m\n\u001b[0;32m----> 1\u001b[0m \u001b[38;5;28;43mlen\u001b[39;49m\u001b[43m(\u001b[49m\u001b[43md\u001b[49m\u001b[43m)\u001b[49m\n",
      "\u001b[0;31mTypeError\u001b[0m: object of type 'NoneType' has no len()"
     ]
    }
   ],
   "source": [
    "len(d)"
   ]
  },
  {
   "cell_type": "code",
   "execution_count": 8,
   "id": "dd589c8e-9618-4a4b-ad1e-d2924181538f",
   "metadata": {
    "tags": []
   },
   "outputs": [
    {
     "data": {
      "text/plain": [
       "database.operations.models.PlayerCreateData"
      ]
     },
     "execution_count": 8,
     "metadata": {},
     "output_type": "execute_result"
    }
   ],
   "source": [
    "type(d[0])"
   ]
  },
  {
   "cell_type": "code",
   "execution_count": 9,
   "id": "0b6969b2-e431-4845-ad7b-4dd409a63c91",
   "metadata": {
    "tags": []
   },
   "outputs": [
    {
     "data": {
      "text/plain": [
       "[]"
      ]
     },
     "execution_count": 9,
     "metadata": {},
     "output_type": "execute_result"
    }
   ],
   "source": [
    "[i for i in d if type(d)==tuple]"
   ]
  },
  {
   "cell_type": "code",
   "execution_count": null,
   "id": "e21b2447-760a-4230-b88d-efdf5db5d124",
   "metadata": {},
   "outputs": [],
   "source": []
  },
  {
   "cell_type": "code",
   "execution_count": 30,
   "id": "6eb15904-5481-4ee0-98b6-31ac76ccdfde",
   "metadata": {
    "tags": []
   },
   "outputs": [],
   "source": [
    "load_dotenv()\n",
    "CONN_STRING = os.getenv(\"CONN_STRING\")"
   ]
  },
  {
   "cell_type": "code",
   "execution_count": 31,
   "id": "8ba35ab5-87b3-43e9-9c6c-a29e9bc132ad",
   "metadata": {
    "tags": []
   },
   "outputs": [],
   "source": [
    "from database.database.engine import init_db"
   ]
  },
  {
   "cell_type": "code",
   "execution_count": 32,
   "id": "e3d9cf26-032a-4a8f-9681-dadebb193e98",
   "metadata": {
    "tags": []
   },
   "outputs": [],
   "source": [
    "init_db(CONN_STRING)"
   ]
  },
  {
   "cell_type": "code",
   "execution_count": 33,
   "id": "eaf402e4-bea2-4df5-9dfe-b274cd84fbbc",
   "metadata": {
    "tags": []
   },
   "outputs": [],
   "source": [
    "player_interface = DBInterface(Player)\n",
    "game_interface = DBInterface(Game)"
   ]
  },
  {
   "cell_type": "code",
   "execution_count": null,
   "id": "c0e2bc93-1bbf-4fab-b563-de57adbb9453",
   "metadata": {
    "tags": []
   },
   "outputs": [],
   "source": [
    "player_interface.read_all()"
   ]
  },
  {
   "cell_type": "code",
   "execution_count": 18,
   "id": "1e55e7ed-35fc-4791-b19f-9f913962fb5c",
   "metadata": {
    "tags": []
   },
   "outputs": [
    {
     "data": {
      "text/plain": [
       "<database.database.db_interface.DBInterface at 0x7fca06791dc0>"
      ]
     },
     "execution_count": 18,
     "metadata": {},
     "output_type": "execute_result"
    }
   ],
   "source": [
    "player_interface"
   ]
  },
  {
   "cell_type": "code",
   "execution_count": 60,
   "id": "1e3f36fe-6f9b-4bd4-b00b-20ebb513aad1",
   "metadata": {
    "tags": []
   },
   "outputs": [],
   "source": [
    "session = DBSession()\n",
    "white = session.query(\n",
    "    game_interface.db_class\n",
    ").where(game_interface.db_class.white =='pat_buchanan').all()\n",
    "black = session.query(\n",
    "    game_interface.db_class\n",
    ").where(game_interface.db_class.black =='pat_buchanan').all()"
   ]
  },
  {
   "cell_type": "code",
   "execution_count": 63,
   "id": "520fa4fb-c148-4e52-b86e-a4d9a2fcdc18",
   "metadata": {
    "tags": []
   },
   "outputs": [
    {
     "data": {
      "text/plain": [
       "'hikaru'"
      ]
     },
     "execution_count": 63,
     "metadata": {},
     "output_type": "execute_result"
    }
   ],
   "source": [
    "white[0].black"
   ]
  },
  {
   "cell_type": "code",
   "execution_count": 64,
   "id": "ba1949ec-e82d-467d-9b4a-a42be0ec909a",
   "metadata": {
    "tags": []
   },
   "outputs": [
    {
     "data": {
      "text/plain": [
       "'hikaru'"
      ]
     },
     "execution_count": 64,
     "metadata": {},
     "output_type": "execute_result"
    }
   ],
   "source": [
    "black[0].white"
   ]
  },
  {
   "cell_type": "code",
   "execution_count": 65,
   "id": "a3db3d5d-868a-4a22-b3dd-cb5b01a17975",
   "metadata": {
    "tags": []
   },
   "outputs": [
    {
     "data": {
      "text/plain": [
       "[<database.database.models.Game at 0x7fca064026d0>,\n",
       " <database.database.models.Game at 0x7fca06402280>,\n",
       " <database.database.models.Game at 0x7fca064027c0>,\n",
       " <database.database.models.Game at 0x7fca06385370>]"
      ]
     },
     "execution_count": 65,
     "metadata": {},
     "output_type": "execute_result"
    }
   ],
   "source": [
    "white + black"
   ]
  },
  {
   "cell_type": "code",
   "execution_count": null,
   "id": "54d5f7f1-1bda-4f73-b5c1-51e7e80a97df",
   "metadata": {},
   "outputs": [],
   "source": []
  },
  {
   "cell_type": "code",
   "execution_count": null,
   "id": "3ac52f72-0550-412e-9bae-8b21cefe04d3",
   "metadata": {},
   "outputs": [],
   "source": []
  },
  {
   "cell_type": "code",
   "execution_count": null,
   "id": "744b0c58-3bb4-4c6b-911b-db54e7a62fe5",
   "metadata": {},
   "outputs": [],
   "source": []
  },
  {
   "cell_type": "code",
   "execution_count": 40,
   "id": "249ad96e-cebd-48f1-bcc2-6f00f9aa93b9",
   "metadata": {
    "tags": []
   },
   "outputs": [],
   "source": [
    "def get_pgn_item(game, item: str) -> str:\n",
    "    if item == \"Termination\":\n",
    "        return (\n",
    "            game.split(f\"{item}\")[1]\n",
    "            .split(\"\\n\")[0]\n",
    "            .replace('\"', \"\")\n",
    "            .replace(\"]\", \"\")\n",
    "            .lower()\n",
    "        )\n",
    "    return (\n",
    "        game.split(f\"{item}\")[1]\n",
    "        .split(\"\\n\")[0]\n",
    "        .replace('\"', \"\")\n",
    "        .replace(\"]\", \"\")\n",
    "        .replace(\" \", \"\")\n",
    "        .lower()\n",
    "    )"
   ]
  },
  {
   "cell_type": "code",
   "execution_count": 33,
   "id": "41098184-2566-4074-aa53-411dcb0cb514",
   "metadata": {
    "tags": []
   },
   "outputs": [],
   "source": [
    "def clean_games(game: str) -> bool:\n",
    "    \"\"\"\n",
    "    It validates games for length of moves and formatting errors\n",
    "\n",
    "    \"\"\"\n",
    "    game_with_more_than_n_moves = \"10. \"  # format: 'INT. '\n",
    "\n",
    "    try:\n",
    "        game.split(\"\\n\\n\")[1][:-4]\n",
    "    except:\n",
    "        return False\n",
    "    if not game_with_more_than_n_moves in game.split(\"\\n\\n\")[1][:-4]:\n",
    "        return False\n",
    "    if game.split(\"\\n\\n\")[1][:-4].startswith(\"1... \"):\n",
    "        return False\n",
    "    if (\n",
    "        \"/\"\n",
    "        in game.split(f\"TimeControl\")[1]\n",
    "        .split(\"\\n\")[0]\n",
    "        .replace('\"', \"\")\n",
    "        .replace(\"]\", \"\")\n",
    "        .replace(\" \", \"\")\n",
    "        .lower()\n",
    "    ):\n",
    "        return False\n",
    "    return True"
   ]
  },
  {
   "cell_type": "code",
   "execution_count": 66,
   "id": "10038b25-7a5b-407a-8d5b-7497ab1f7270",
   "metadata": {
    "tags": []
   },
   "outputs": [],
   "source": [
    "valid_dates = [(2023, 1), (2023, 2), (2023, 3)]"
   ]
  },
  {
   "cell_type": "code",
   "execution_count": 67,
   "id": "ed371f22-2f48-4b3c-bfa7-2a8a1f5538b4",
   "metadata": {
    "tags": []
   },
   "outputs": [],
   "source": [
    "player_name = 'hikaru'"
   ]
  },
  {
   "cell_type": "code",
   "execution_count": 68,
   "id": "4b577f50-b58a-4d09-88c1-4adc2501f817",
   "metadata": {
    "tags": []
   },
   "outputs": [
    {
     "name": "stdout",
     "output_type": "stream",
     "text": [
      "GOT 1344 games\n",
      "downloading over\n",
      "returned months = 1344\n"
     ]
    }
   ],
   "source": [
    "w = download_months(player_name, valid_dates)"
   ]
  },
  {
   "cell_type": "code",
   "execution_count": null,
   "id": "893f4954-7612-48a6-87b9-ab3d92456e38",
   "metadata": {},
   "outputs": [],
   "source": []
  },
  {
   "cell_type": "code",
   "execution_count": 36,
   "id": "62b28a90-263a-4957-ad6e-d7b6a530521c",
   "metadata": {
    "tags": []
   },
   "outputs": [],
   "source": [
    "games = [game for game in w if clean_games(game)]"
   ]
  },
  {
   "cell_type": "code",
   "execution_count": 37,
   "id": "5a7e0ee3-fa83-400a-9529-5c67316c2f45",
   "metadata": {
    "tags": []
   },
   "outputs": [
    {
     "data": {
      "text/plain": [
       "1344"
      ]
     },
     "execution_count": 37,
     "metadata": {},
     "output_type": "execute_result"
    }
   ],
   "source": [
    "len(w)"
   ]
  },
  {
   "cell_type": "code",
   "execution_count": 38,
   "id": "d94b7526-40af-45dc-994b-1fd7b70d812d",
   "metadata": {
    "tags": []
   },
   "outputs": [
    {
     "data": {
      "text/plain": [
       "1338"
      ]
     },
     "execution_count": 38,
     "metadata": {},
     "output_type": "execute_result"
    }
   ],
   "source": [
    "len(games)"
   ]
  },
  {
   "cell_type": "code",
   "execution_count": 41,
   "id": "77977784-252c-49ab-989e-58dc83aadfd1",
   "metadata": {
    "tags": []
   },
   "outputs": [],
   "source": [
    "players_and_game_id = np.array(\n",
    "        [\n",
    "            [\n",
    "                get_pgn_item(game, \"White\").lower(),\n",
    "                get_pgn_item(game, \"Black\").lower(),\n",
    "                int(get_pgn_item(game, \"[Link\").split(\"/\")[-1]),\n",
    "            ]\n",
    "            for game in games\n",
    "        ]\n",
    "    )"
   ]
  },
  {
   "cell_type": "code",
   "execution_count": 42,
   "id": "6b0b5eab-81f5-411f-8041-e516abceb348",
   "metadata": {
    "tags": []
   },
   "outputs": [
    {
     "data": {
      "text/plain": [
       "array([['hikaru', 'njal28', '74057526727'],\n",
       "       ['njal28', 'hikaru', '74057452511'],\n",
       "       ['hikaru', 'njal28', '74056933645'],\n",
       "       ...,\n",
       "       ['hikaru', 'gmleonlivaic', '69010411945'],\n",
       "       ['hikaru', 'oleksandr_bortnyk', '69010258731'],\n",
       "       ['hikaru', 'danielnaroditsky', '69009850063']], dtype='<U25')"
      ]
     },
     "execution_count": 42,
     "metadata": {},
     "output_type": "execute_result"
    }
   ],
   "source": [
    "players_and_game_id"
   ]
  },
  {
   "cell_type": "code",
   "execution_count": null,
   "id": "341981df-6e45-4263-8e70-9f4df7c9d807",
   "metadata": {},
   "outputs": [],
   "source": []
  },
  {
   "cell_type": "code",
   "execution_count": 3,
   "id": "230bee19-e11f-4528-9cf1-d01111194408",
   "metadata": {
    "tags": []
   },
   "outputs": [],
   "source": [
    "def create_month(params: list) -> None:\n",
    "    \"\"\"\n",
    "    Download a month, splits the games and return a list of pgn games.\n",
    "    \"\"\"\n",
    "    pgn = download_month(params[\"player_name\"], params[\"year\"], params[\"month\"])\n",
    "    if pgn == False:\n",
    "        params[\"return_games\"].extend(False)\n",
    "        return\n",
    "    games = pgn.read().split(\"\\n\\n\\n\")\n",
    "    return games"
   ]
  },
  {
   "cell_type": "code",
   "execution_count": 4,
   "id": "66003c83-e033-4212-8ed9-e772418ca731",
   "metadata": {
    "tags": []
   },
   "outputs": [],
   "source": [
    "pgn = download_month('hikaru', '2023', '1')"
   ]
  },
  {
   "cell_type": "code",
   "execution_count": 6,
   "id": "54013356-593e-4af8-bc3f-5b77d04d21b3",
   "metadata": {
    "tags": []
   },
   "outputs": [],
   "source": [
    "pgn = pgn.read().split(\"\\n\\n\\n\")"
   ]
  },
  {
   "cell_type": "code",
   "execution_count": 2,
   "id": "b8f5cc6a-e582-4a1e-aef1-2ec3f4698543",
   "metadata": {},
   "outputs": [],
   "source": [
    "def get_ask_connection():\n",
    "    CONN_STRING = os.getenv(\"PSYCOPG2_CONN_STRING\")\n",
    "    return psycopg2.connect(CONN_STRING, port = 5433)\n",
    "\n",
    "\n",
    "def player_exists_at_db(player_name: str):\n",
    "    conn = get_ask_connection()\n",
    "    with conn.cursor() as curs:\n",
    "        curs.execute(\n",
    "            f\"select player_name from player where player_name='{player_name}'\"\n",
    "        )\n",
    "        result = curs.fetchall()\n",
    "    if len(result) == 1:\n",
    "        return True\n",
    "    return False\n",
    "def get_games(player_name: str):\n",
    "    conn = get_ask_connection()\n",
    "    with conn.cursor() as curs:\n",
    "        curs.execute(\n",
    "            f\"select id from game where white='{player_name}'\"\n",
    "        )\n",
    "        result = curs.fetchall()\n",
    "    return result\n",
    "def get_all_players():\n",
    "    conn = get_ask_connection()\n",
    "    with conn.cursor() as curs:\n",
    "        curs.execute(\n",
    "            f\"select player_name from player\"\n",
    "        )\n",
    "        result = curs.fetchall()\n",
    "    return result"
   ]
  },
  {
   "cell_type": "code",
   "execution_count": 3,
   "id": "3ab0723e-1c4e-4d34-b54f-fa7f9811f734",
   "metadata": {
    "tags": []
   },
   "outputs": [
    {
     "data": {
      "text/plain": [
       "[('pat_buchanan',), ('hikaru',)]"
      ]
     },
     "execution_count": 3,
     "metadata": {},
     "output_type": "execute_result"
    }
   ],
   "source": [
    "get_all_players()"
   ]
  },
  {
   "cell_type": "code",
   "execution_count": 12,
   "id": "2e79129f-b35b-4ac4-ae2e-f9be295965a6",
   "metadata": {},
   "outputs": [
    {
     "data": {
      "text/plain": [
       "True"
      ]
     },
     "execution_count": 12,
     "metadata": {},
     "output_type": "execute_result"
    }
   ],
   "source": [
    "player_exists_at_db('hikaru'.lower())"
   ]
  },
  {
   "cell_type": "code",
   "execution_count": 3,
   "id": "0ca8b482-f950-4630-b845-88fbac0211ae",
   "metadata": {},
   "outputs": [
    {
     "data": {
      "text/plain": [
       "False"
      ]
     },
     "execution_count": 3,
     "metadata": {},
     "output_type": "execute_result"
    }
   ],
   "source": [
    "get_profile('sdssssdfssssssssssssss')"
   ]
  },
  {
   "cell_type": "code",
   "execution_count": 5,
   "id": "c7104b71-beb6-41b4-afec-329f0ab78fb3",
   "metadata": {},
   "outputs": [],
   "source": [
    "player_name = 'Pat_Buchanan'"
   ]
  },
  {
   "cell_type": "code",
   "execution_count": 6,
   "id": "a4edaf57-82d8-4285-a486-6a6cfb38e571",
   "metadata": {},
   "outputs": [],
   "source": [
    "prof = get_profile(player_name)"
   ]
  },
  {
   "cell_type": "code",
   "execution_count": 7,
   "id": "be7f2b8e-8990-48c3-97c1-b75d9fae4e01",
   "metadata": {},
   "outputs": [
    {
     "data": {
      "text/plain": [
       "{'avatar': 'https://images.chesscomfiles.com/uploads/v1/user/29584920.b3462b3c.200x200o.b4b455f59035.jpeg',\n",
       " 'player_id': 29584920,\n",
       " '@id': 'https://api.chess.com/pub/player/pat_buchanan',\n",
       " 'url': 'https://www.chess.com/member/Pat_Buchanan',\n",
       " 'name': 'Pat Buchanan',\n",
       " 'username': 'pat_buchanan',\n",
       " 'followers': 98,\n",
       " 'country': 'https://api.chess.com/pub/country/MX',\n",
       " 'location': 'Ciudad de M&eacute;xico',\n",
       " 'last_online': 1697477530,\n",
       " 'joined': 1471850943,\n",
       " 'status': 'basic',\n",
       " 'is_streamer': False,\n",
       " 'verified': False,\n",
       " 'league': 'Legend'}"
      ]
     },
     "execution_count": 7,
     "metadata": {},
     "output_type": "execute_result"
    }
   ],
   "source": [
    "prof"
   ]
  },
  {
   "cell_type": "code",
   "execution_count": 5,
   "id": "02d0da3c-0489-45f8-a65d-9e385d2a2e91",
   "metadata": {},
   "outputs": [
    {
     "data": {
      "text/plain": [
       "dict"
      ]
     },
     "execution_count": 5,
     "metadata": {},
     "output_type": "execute_result"
    }
   ],
   "source": [
    "type(prof)"
   ]
  },
  {
   "cell_type": "code",
   "execution_count": 8,
   "id": "7b50b8cf-c206-4200-8b6c-922e84fadd75",
   "metadata": {},
   "outputs": [],
   "source": [
    "country = prof.pop('country').split('/')[-1]"
   ]
  },
  {
   "cell_type": "code",
   "execution_count": 9,
   "id": "1093209b-2831-4b1c-aa25-26feedf3dfef",
   "metadata": {},
   "outputs": [
    {
     "data": {
      "text/plain": [
       "'MX'"
      ]
     },
     "execution_count": 9,
     "metadata": {},
     "output_type": "execute_result"
    }
   ],
   "source": [
    "country"
   ]
  },
  {
   "cell_type": "code",
   "execution_count": null,
   "id": "2bf6c1a0-fabd-49f2-9f10-3df0e84aa73d",
   "metadata": {},
   "outputs": [],
   "source": []
  },
  {
   "cell_type": "code",
   "execution_count": 3,
   "id": "2ce599f8-05b4-45d3-b47a-3c139990f183",
   "metadata": {},
   "outputs": [
    {
     "data": {
      "text/plain": [
       "True"
      ]
     },
     "execution_count": 3,
     "metadata": {},
     "output_type": "execute_result"
    }
   ],
   "source": [
    "member_exists(player_name = 'hikaru')"
   ]
  },
  {
   "cell_type": "code",
   "execution_count": null,
   "id": "449f34ba-db92-4de4-b782-b5a3c14bc6ba",
   "metadata": {},
   "outputs": [],
   "source": []
  },
  {
   "cell_type": "code",
   "execution_count": null,
   "id": "e723e79b-4324-4e68-8b1e-a5f9ee2498b2",
   "metadata": {},
   "outputs": [],
   "source": []
  },
  {
   "cell_type": "code",
   "execution_count": null,
   "id": "4d4b10fd-37b2-4fc7-b338-92ad24125530",
   "metadata": {},
   "outputs": [],
   "source": []
  },
  {
   "cell_type": "code",
   "execution_count": 8,
   "id": "56498ce1-3fbd-4f4b-85f3-9cd35eccbe8e",
   "metadata": {},
   "outputs": [],
   "source": [
    "from database.operations.models import PlayerCreateData, PlayerResult"
   ]
  },
  {
   "cell_type": "code",
   "execution_count": 17,
   "id": "77294b71-53f1-4490-b1c2-6441ab47d721",
   "metadata": {},
   "outputs": [],
   "source": [
    "profile = get_profile('pat_buchanan')"
   ]
  },
  {
   "cell_type": "code",
   "execution_count": 18,
   "id": "c0cc7ab4-ab24-46e1-ba88-a1ce94065990",
   "metadata": {},
   "outputs": [
    {
     "data": {
      "text/plain": [
       "'https://api.chess.com/pub/player/pat_buchanan'"
      ]
     },
     "execution_count": 18,
     "metadata": {},
     "output_type": "execute_result"
    }
   ],
   "source": [
    "profile.pop('@id')"
   ]
  },
  {
   "cell_type": "code",
   "execution_count": 19,
   "id": "f7120cbb-4f9b-490a-8d5f-2ba998ebb007",
   "metadata": {},
   "outputs": [],
   "source": [
    "p_name = profile.pop('name')"
   ]
  },
  {
   "cell_type": "code",
   "execution_count": 20,
   "id": "3205380e-d26d-4407-9548-4e27e61511ee",
   "metadata": {},
   "outputs": [
    {
     "data": {
      "text/plain": [
       "'Pat Buchanan'"
      ]
     },
     "execution_count": 20,
     "metadata": {},
     "output_type": "execute_result"
    }
   ],
   "source": [
    "p_name"
   ]
  },
  {
   "cell_type": "code",
   "execution_count": 11,
   "id": "fca0c1ac-cc5c-4fb1-9d53-845e34146a5a",
   "metadata": {},
   "outputs": [
    {
     "data": {
      "text/plain": [
       "{'avatar': 'https://images.chesscomfiles.com/uploads/v1/user/29584920.b3462b3c.200x200o.b4b455f59035.jpeg',\n",
       " 'player_id': 29584920,\n",
       " 'url': 'https://www.chess.com/member/Pat_Buchanan',\n",
       " 'name': 'Pat Buchanan',\n",
       " 'username': 'pat_buchanan',\n",
       " 'followers': 98,\n",
       " 'country': 'https://api.chess.com/pub/country/MX',\n",
       " 'location': 'Ciudad de M&eacute;xico',\n",
       " 'last_online': 1697477530,\n",
       " 'joined': 1471850943,\n",
       " 'status': 'basic',\n",
       " 'is_streamer': False,\n",
       " 'verified': False,\n",
       " 'league': 'Legend'}"
      ]
     },
     "execution_count": 11,
     "metadata": {},
     "output_type": "execute_result"
    }
   ],
   "source": [
    "profile"
   ]
  },
  {
   "cell_type": "code",
   "execution_count": 13,
   "id": "cdb309cc-9cba-4371-802e-e9314dc23351",
   "metadata": {},
   "outputs": [],
   "source": [
    "a = PlayerCreateData(**profile)"
   ]
  },
  {
   "cell_type": "code",
   "execution_count": 16,
   "id": "43bb69fa-7792-4eec-8a5b-a8d0238e598c",
   "metadata": {},
   "outputs": [
    {
     "data": {
      "text/plain": [
       "{'avatar': 'https://images.chesscomfiles.com/uploads/v1/user/29584920.b3462b3c.200x200o.b4b455f59035.jpeg',\n",
       " 'player_id': 29584920,\n",
       " 'url': 'https://www.chess.com/member/Pat_Buchanan',\n",
       " 'name': 'Pat Buchanan',\n",
       " 'username': 'pat_buchanan',\n",
       " 'followers': 98,\n",
       " 'country': 'https://api.chess.com/pub/country/MX',\n",
       " 'location': 'Ciudad de M&eacute;xico',\n",
       " 'last_online': 1697477530,\n",
       " 'joined': 1471850943,\n",
       " 'status': 'basic',\n",
       " 'is_streamer': False,\n",
       " 'verified': False,\n",
       " 'league': 'Legend'}"
      ]
     },
     "execution_count": 16,
     "metadata": {},
     "output_type": "execute_result"
    }
   ],
   "source": [
    "a.model_dump()"
   ]
  },
  {
   "cell_type": "code",
   "execution_count": null,
   "id": "6c88eba4-957a-4fd0-b72d-b5f50418ebed",
   "metadata": {},
   "outputs": [],
   "source": []
  },
  {
   "cell_type": "code",
   "execution_count": null,
   "id": "3a2b0552-6cef-4b0b-82d8-c2c56268a633",
   "metadata": {},
   "outputs": [],
   "source": []
  },
  {
   "cell_type": "code",
   "execution_count": 25,
   "id": "cc2cd098-62dd-45ef-98c1-93980ff23857",
   "metadata": {},
   "outputs": [
    {
     "ename": "SyntaxError",
     "evalue": "invalid syntax (<ipython-input-25-e62177203b71>, line 1)",
     "output_type": "error",
     "traceback": [
      "\u001b[0;36m  Cell \u001b[0;32mIn[25], line 1\u001b[0;36m\u001b[0m\n\u001b[0;31m    a = PlayerCreateData(profile**)\u001b[0m\n\u001b[0m                                  ^\u001b[0m\n\u001b[0;31mSyntaxError\u001b[0m\u001b[0;31m:\u001b[0m invalid syntax\n"
     ]
    }
   ],
   "source": []
  },
  {
   "cell_type": "code",
   "execution_count": null,
   "id": "7b80349d-4491-416b-9d3d-d6f52fc9f1e3",
   "metadata": {},
   "outputs": [],
   "source": [
    "class Person(db.Model):\n",
    "    id = db.Column(db.Integer, primary_key=True)\n",
    "\n",
    "    user = db.relationship(\"BankSlip\", foreign_keys='BankSlip.person_user_id', back_populates=\"person_user\")\n",
    "    reference = db.relationship(\"BankSlip\", foreign_keys='BankSlip.person_ref_id', back_populates=\"person_reference\")"
   ]
  },
  {
   "cell_type": "code",
   "execution_count": null,
   "id": "fab05979-88ac-49a2-a7d7-58870b7eb51d",
   "metadata": {},
   "outputs": [],
   "source": []
  },
  {
   "cell_type": "code",
   "execution_count": null,
   "id": "aa338d94-02ed-43b9-afc8-5fc00a9b23b4",
   "metadata": {},
   "outputs": [],
   "source": []
  },
  {
   "cell_type": "code",
   "execution_count": null,
   "id": "6b287d7e-32f1-4af3-8618-464f82b693c9",
   "metadata": {},
   "outputs": [],
   "source": []
  },
  {
   "cell_type": "code",
   "execution_count": null,
   "id": "8c9dccff-8143-440e-aaa2-1f01d458d4a8",
   "metadata": {},
   "outputs": [],
   "source": []
  },
  {
   "cell_type": "code",
   "execution_count": null,
   "id": "f640be0c-4bf2-4f09-9eca-c9b78cce8d7a",
   "metadata": {},
   "outputs": [],
   "source": []
  },
  {
   "cell_type": "code",
   "execution_count": null,
   "id": "91d601a6-c15a-479f-938f-6fcf19a6c84e",
   "metadata": {},
   "outputs": [],
   "source": []
  },
  {
   "cell_type": "code",
   "execution_count": null,
   "id": "b8a9f533-e042-47ec-81ec-3b07cad9c78a",
   "metadata": {},
   "outputs": [],
   "source": []
  },
  {
   "cell_type": "code",
   "execution_count": null,
   "id": "2ac28ab4-2c98-4090-9f09-7249a45ff49e",
   "metadata": {},
   "outputs": [],
   "source": []
  },
  {
   "cell_type": "code",
   "execution_count": null,
   "id": "3059fd1a-e0f0-4c9b-bf3e-05881f5ca366",
   "metadata": {},
   "outputs": [],
   "source": []
  },
  {
   "cell_type": "code",
   "execution_count": null,
   "id": "bdeade2e-1881-4167-bf4d-a04939d54738",
   "metadata": {},
   "outputs": [],
   "source": []
  },
  {
   "cell_type": "code",
   "execution_count": null,
   "id": "daff2932-4dc4-4b81-bdd5-3d9bc9c78cf1",
   "metadata": {},
   "outputs": [],
   "source": []
  },
  {
   "cell_type": "code",
   "execution_count": null,
   "id": "d126c1d4-74f7-4937-afb1-ddb923a70bcd",
   "metadata": {},
   "outputs": [],
   "source": []
  }
 ],
 "metadata": {
  "kernelspec": {
   "display_name": "chess",
   "language": "python",
   "name": "chess"
  },
  "language_info": {
   "codemirror_mode": {
    "name": "ipython",
    "version": 3
   },
   "file_extension": ".py",
   "mimetype": "text/x-python",
   "name": "python",
   "nbconvert_exporter": "python",
   "pygments_lexer": "ipython3",
   "version": "3.9.18"
  }
 },
 "nbformat": 4,
 "nbformat_minor": 5
}
