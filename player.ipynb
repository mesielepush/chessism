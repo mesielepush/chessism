{
 "cells": [
  {
   "cell_type": "code",
   "execution_count": 2,
   "id": "8d26453d-7761-484d-a682-3a4b4b800a38",
   "metadata": {},
   "outputs": [],
   "source": [
    "import json\n",
    "import pandas as pd\n",
    "import numpy as np\n",
    "from database.operations.chess_com_api import get_profile\n",
    "import requests\n",
    "from dotenv import load_dotenv\n",
    "import os\n",
    "import psycopg2\n",
    "from bs4 import BeautifulSoup\n",
    "import joblib\n",
    "from database.operations.chess_com_api import download_months, download_month, month_of_games\n",
    "#from database.operations.players import read_oponents, read_all_players\n",
    "from database.database.db_interface import DBInterface\n",
    "from database.database.models import Player, Game\n",
    "from database.database.engine import DBSession\n",
    "from database.operations.models import PlayerCreateData, GameCreateData\n",
    "from database.operations.format_dates import create_range\n",
    "load_dotenv(\".env\")\n",
    "import io\n",
    "import concurrent"
   ]
  },
  {
   "cell_type": "code",
   "execution_count": 3,
   "id": "06be343a-bf7e-46e0-977e-e9f690e9814d",
   "metadata": {},
   "outputs": [
    {
     "data": {
      "text/plain": [
       "{'avatar': 'https://images.chesscomfiles.com/uploads/v1/user/28583276.b0fa66c3.200x200o.e193184a1fb4.jpg',\n",
       " 'player_id': 28583276,\n",
       " 'url': 'https://www.chess.com/member/AlexandraBotez',\n",
       " 'name': 'Alexandra Botez',\n",
       " 'title': 'WFM',\n",
       " 'followers': 66297,\n",
       " 'location': 'New York',\n",
       " 'joined': 1465620232,\n",
       " 'status': 'premium',\n",
       " 'is_streamer': True,\n",
       " 'twitch_url': 'https://twitch.tv/botezlive',\n",
       " 'verified': False,\n",
       " 'league': 'Champion',\n",
       " 'country': 'US'}"
      ]
     },
     "execution_count": 3,
     "metadata": {},
     "output_type": "execute_result"
    }
   ],
   "source": [
    "get_profile('AlexandraBotez')"
   ]
  },
  {
   "cell_type": "code",
   "execution_count": 2,
   "id": "33b6522c-dd6a-4961-a88e-4c6f5c216900",
   "metadata": {
    "tags": []
   },
   "outputs": [
    {
     "data": {
      "text/plain": [
       "['.env',\n",
       " '.ipynb_checkpoints',\n",
       " 'database',\n",
       " 'games.ipynb',\n",
       " 'games.pkl',\n",
       " 'main.py',\n",
       " 'player.ipynb',\n",
       " '__pycache__']"
      ]
     },
     "execution_count": 2,
     "metadata": {},
     "output_type": "execute_result"
    }
   ],
   "source": [
    "os.listdir(os.getcwd())"
   ]
  },
  {
   "cell_type": "code",
   "execution_count": 3,
   "id": "19c964d3-3c9f-4c17-864f-ce45012fe906",
   "metadata": {
    "tags": []
   },
   "outputs": [],
   "source": [
    "a = joblib.load('games.pkl')"
   ]
  },
  {
   "cell_type": "code",
   "execution_count": 4,
   "id": "05fe84e3-2c02-468b-8cc8-aa812522be9d",
   "metadata": {
    "tags": []
   },
   "outputs": [
    {
     "data": {
      "text/plain": [
       "'[Event \"Live Chess\"]\\n[Site \"Chess.com\"]\\n[Date \"2021.02.01\"]\\n[Round \"-\"]\\n[White \"Pat_Buchanan\"]\\n[Black \"Ichbinalex\"]\\n[Result \"1-0\"]\\n[CurrentPosition \"r2q1rk1/pbpn1ppp/1p1ppn2/8/1P1PP3/2NB1N2/1PP2PPP/R1BQR1K1 b - -\"]\\n[Timezone \"UTC\"]\\n[ECO \"B00\"]\\n[ECOUrl \"https://www.chess.com/openings/Owens-Defense\"]\\n[UTCDate \"2021.02.01\"]\\n[UTCTime \"00:45:34\"]\\n[WhiteElo \"1379\"]\\n[BlackElo \"1404\"]\\n[TimeControl \"60\"]\\n[Termination \"Pat_Buchanan won by resignation\"]\\n[StartTime \"00:45:34\"]\\n[EndDate \"2021.02.01\"]\\n[EndTime \"00:45:51\"]\\n[Link \"https://www.chess.com/game/live/6410917729\"]\\n\\n1. e4 {[%clk 0:00:59.9]} 1... b6 {[%clk 0:00:59.9]} 2. Nf3 {[%clk 0:00:59]} 2... Bb7 {[%clk 0:00:59.6]} 3. Nc3 {[%clk 0:00:58.5]} 3... e6 {[%clk 0:00:59]} 4. d4 {[%clk 0:00:58.2]} 4... Bb4 {[%clk 0:00:58.6]} 5. Bd3 {[%clk 0:00:57.6]} 5... Nf6 {[%clk 0:00:57.5]} 6. O-O {[%clk 0:00:56.2]} 6... O-O {[%clk 0:00:56.7]} 7. Re1 {[%clk 0:00:55.6]} 7... d6 {[%clk 0:00:55.2]} 8. a3 {[%clk 0:00:54.5]} 8... Nbd7 {[%clk 0:00:54.8]} 9. axb4 {[%clk 0:00:53.2]} 1-0'"
      ]
     },
     "execution_count": 4,
     "metadata": {},
     "output_type": "execute_result"
    }
   ],
   "source": [
    "a[0]"
   ]
  },
  {
   "cell_type": "code",
   "execution_count": 5,
   "id": "aae43f2e-342f-4e7e-a883-c3745b9ee3e5",
   "metadata": {
    "tags": []
   },
   "outputs": [],
   "source": [
    "s = {'id': 6136244019,\n",
    "     'start_time': '23:35:27',\n",
    "     'year': 2021,\n",
    "     'month': 1,\n",
    "     'day': 3,\n",
    "     'white': 'pat_buchanan',\n",
    "     'black': 'abelcenteno99',\n",
    "     'white_elo': '1166',\n",
    "     'black_elo': '1079',\n",
    "     'white_result': 1,\n",
    "     'black_result': 0,\n",
    "     'time_control': '60',\n",
    "     'eco': 'b06',\n",
    "     'time_elapsed': '00:01:51',\n",
    "     'termination': 'time',\n",
    "     'n_moves': 29}"
   ]
  },
  {
   "cell_type": "code",
   "execution_count": 9,
   "id": "8a9bf19f-5487-49e3-bfa8-ba205146766e",
   "metadata": {
    "tags": []
   },
   "outputs": [],
   "source": [
    "w = GameCreateData(**s)"
   ]
  },
  {
   "cell_type": "code",
   "execution_count": 13,
   "id": "f6d65d86-8868-450b-99a4-66e648ed6ab2",
   "metadata": {
    "tags": []
   },
   "outputs": [
    {
     "data": {
      "text/plain": [
       "{'id': 6136244019,\n",
       " 'start_time': '23:35:27',\n",
       " 'year': 2021,\n",
       " 'month': 1,\n",
       " 'day': 3,\n",
       " 'white': 'pat_buchanan',\n",
       " 'black': 'abelcenteno99',\n",
       " 'white_elo': 1166,\n",
       " 'black_elo': 1079,\n",
       " 'white_result': 1.0,\n",
       " 'black_result': 0.0,\n",
       " 'time_control': '60',\n",
       " 'eco': 'b06',\n",
       " 'time_elapsed': '00:01:51',\n",
       " 'termination': 'time',\n",
       " 'n_moves': 29}"
      ]
     },
     "execution_count": 13,
     "metadata": {},
     "output_type": "execute_result"
    }
   ],
   "source": [
    "w.model_dump()"
   ]
  },
  {
   "cell_type": "code",
   "execution_count": null,
   "id": "0d2b3bb9-7707-496c-9c0f-af8fb036bf8d",
   "metadata": {},
   "outputs": [],
   "source": []
  },
  {
   "cell_type": "code",
   "execution_count": null,
   "id": "6e1f95a3-baaa-499e-a3f3-c2d4a76166d1",
   "metadata": {},
   "outputs": [],
   "source": []
  },
  {
   "cell_type": "code",
   "execution_count": null,
   "id": "4c064b64-d5d4-4dc8-92e0-65802094e81c",
   "metadata": {},
   "outputs": [],
   "source": []
  },
  {
   "cell_type": "code",
   "execution_count": null,
   "id": "cc7221c9-2810-4bc8-999c-0096685dd4a5",
   "metadata": {},
   "outputs": [],
   "source": []
  },
  {
   "cell_type": "code",
   "execution_count": null,
   "id": "2d5c056c-8be7-487d-b4b9-9645995552fa",
   "metadata": {},
   "outputs": [],
   "source": []
  },
  {
   "cell_type": "code",
   "execution_count": null,
   "id": "209927f1-2b44-4987-b326-14ad5df74067",
   "metadata": {},
   "outputs": [],
   "source": []
  },
  {
   "cell_type": "code",
   "execution_count": null,
   "id": "20e60c7a-50d2-48e1-9349-f52ea6cc81b2",
   "metadata": {},
   "outputs": [],
   "source": []
  },
  {
   "cell_type": "code",
   "execution_count": null,
   "id": "651366e1-d675-4171-af9e-2994f2a555eb",
   "metadata": {},
   "outputs": [],
   "source": [
    "USER_AGENT = os.getenv('USER_AGENT')\n",
    "DOWNLOAD_MONTH = (\n",
    "    os.getenv(\"DOWNLOAD_MONTH\")\n",
    "    .replace(\"{player_name}\", 'hikaru')\n",
    "    .replace(\"{year}\", str(2021))\n",
    "    .replace(\"{month}\", str(11))\n",
    ")\n",
    "games = requests.get(DOWNLOAD_MONTH,\n",
    "                     allow_redirects=True,\n",
    "                     timeout=3,\n",
    "                     headers = {\"User-Agent\": USER_AGENT})"
   ]
  },
  {
   "cell_type": "code",
   "execution_count": null,
   "id": "b992adc9-806a-4525-b353-e4e017ddf04f",
   "metadata": {
    "tags": []
   },
   "outputs": [],
   "source": [
    "def some(params):\n",
    "    params['pipi'].append('opipipi')"
   ]
  },
  {
   "cell_type": "code",
   "execution_count": null,
   "id": "b6c7f506-9887-448e-8833-7761d2479b7a",
   "metadata": {
    "tags": []
   },
   "outputs": [],
   "source": [
    "result = [] \n",
    "params = [{'pipi':result} for i in range(2)]"
   ]
  },
  {
   "cell_type": "code",
   "execution_count": null,
   "id": "3447dec9-1fd2-41f6-9044-97e8278d1460",
   "metadata": {
    "tags": []
   },
   "outputs": [],
   "source": [
    "params"
   ]
  },
  {
   "cell_type": "code",
   "execution_count": null,
   "id": "f9d3e67e-c03c-43d7-9e70-684b061cb7d2",
   "metadata": {
    "tags": []
   },
   "outputs": [],
   "source": [
    "with concurrent.futures.ThreadPoolExecutor(max_workers=20) as executor:\n",
    "        executor.map(some, params)"
   ]
  },
  {
   "cell_type": "code",
   "execution_count": null,
   "id": "62a89ca1-419f-4828-8a9b-1a34e2363ffc",
   "metadata": {
    "tags": []
   },
   "outputs": [],
   "source": [
    "result"
   ]
  },
  {
   "cell_type": "code",
   "execution_count": null,
   "id": "882739d2-263c-4edb-a4c1-ce04fbce4642",
   "metadata": {},
   "outputs": [],
   "source": [
    "def download_months(player_name, valid_dates):\n",
    "    \"\"\"\n",
    "    Ask chessdotcom for the games on the date_range trough a threadpool\n",
    "    returns valid games for valid months and a list of months asked\n",
    "    \"\"\"\n",
    "    return_games = []\n",
    "    params = [\n",
    "        {\n",
    "            \"player_name\": player_name,\n",
    "            \"year\": date[0],\n",
    "            \"month\": date[1],\n",
    "            \"return_games\": return_games,\n",
    "        }\n",
    "        for date in valid_dates\n",
    "    ]\n",
    "    \n",
    "    with concurrent.futures.ThreadPoolExecutor(max_workers=10) as executor:\n",
    "        executor.map(month_of_games, params)\n",
    "    print(f\"GOT {len(return_games)} games\")\n",
    "    print(\"downloading over\")\n",
    "    #return_games = [game for game in return_games if game is not False]\n",
    "    print(f'returned months = {len(return_games)}')\n",
    "    return return_games"
   ]
  },
  {
   "cell_type": "code",
   "execution_count": 30,
   "id": "62651df3-f976-4667-9a21-efba9f47ab61",
   "metadata": {
    "tags": []
   },
   "outputs": [
    {
     "name": "stdout",
     "output_type": "stream",
     "text": [
      "2021 2\n",
      "GOT 1104 games\n",
      "downloading over\n",
      "returned games = 1104\n"
     ]
    }
   ],
   "source": [
    "a = download_months('pat_buchanan', [(2021,2)])"
   ]
  },
  {
   "cell_type": "code",
   "execution_count": null,
   "id": "e2cd58e1-a105-4d3c-b66b-281d62e90b4f",
   "metadata": {
    "tags": []
   },
   "outputs": [],
   "source": [
    "a"
   ]
  },
  {
   "cell_type": "code",
   "execution_count": null,
   "id": "2ddf4836-910e-4c32-870b-f72706990e5f",
   "metadata": {},
   "outputs": [],
   "source": []
  },
  {
   "cell_type": "code",
   "execution_count": null,
   "id": "90e549d7-618e-43d6-bb6a-4a7e157f15db",
   "metadata": {},
   "outputs": [],
   "source": []
  },
  {
   "cell_type": "code",
   "execution_count": null,
   "id": "82878343-db9a-4072-adad-9076b62ddad8",
   "metadata": {},
   "outputs": [],
   "source": [
    "pgn = io.StringIO(games.content.decode().replace(\"'\", '\"'))"
   ]
  },
  {
   "cell_type": "code",
   "execution_count": null,
   "id": "0deb6f9b-4e36-4bf1-b354-713881306a7a",
   "metadata": {},
   "outputs": [],
   "source": [
    "data = {\"player_name\":\"caruana\", \"dates\":\"2021_1-2021_2\"}"
   ]
  },
  {
   "cell_type": "code",
   "execution_count": null,
   "id": "a12659b7-1e61-4d73-95f7-26e34d9f02ed",
   "metadata": {},
   "outputs": [],
   "source": [
    "date_range = create_range(data)"
   ]
  },
  {
   "cell_type": "code",
   "execution_count": null,
   "id": "f1f3dda9-7947-40b3-a781-66bfdee0f029",
   "metadata": {},
   "outputs": [],
   "source": [
    "date_range"
   ]
  },
  {
   "cell_type": "code",
   "execution_count": null,
   "id": "c3500504-514e-42dd-80f3-ea3bc5439469",
   "metadata": {},
   "outputs": [],
   "source": [
    "pgn = download_month(data[\"player_name\"], 2021, 5)"
   ]
  },
  {
   "cell_type": "code",
   "execution_count": null,
   "id": "4d2abc71-a7a3-414f-b9af-216776c507f7",
   "metadata": {},
   "outputs": [],
   "source": []
  },
  {
   "cell_type": "code",
   "execution_count": null,
   "id": "fc142dd1-fc0d-489f-9574-34e06713269c",
   "metadata": {},
   "outputs": [],
   "source": [
    "games = download_months('pat_buchanan',[(2021,1),(2021,2)])"
   ]
  },
  {
   "cell_type": "code",
   "execution_count": null,
   "id": "bbd04581-0bb6-451d-9196-1a6bb4e06a3d",
   "metadata": {},
   "outputs": [],
   "source": [
    "games"
   ]
  },
  {
   "cell_type": "code",
   "execution_count": null,
   "id": "8a3744e5-db34-494d-b46e-e4c719f10013",
   "metadata": {},
   "outputs": [],
   "source": []
  },
  {
   "cell_type": "code",
   "execution_count": null,
   "id": "1ed6338a-cd97-403a-8093-5b9f1dfb738d",
   "metadata": {},
   "outputs": [],
   "source": []
  },
  {
   "cell_type": "code",
   "execution_count": null,
   "id": "232b66be-6e1c-41a6-ae61-c895ebd328ac",
   "metadata": {},
   "outputs": [],
   "source": [
    "profile= {'player_name':'pipi'}\n",
    "profile = PlayerCreateData(**profile)"
   ]
  },
  {
   "cell_type": "code",
   "execution_count": null,
   "id": "63539d66-011f-4f14-a928-18eb468023d7",
   "metadata": {},
   "outputs": [],
   "source": [
    "profile"
   ]
  },
  {
   "cell_type": "code",
   "execution_count": null,
   "id": "daefe5cb-86dc-4cca-81e0-6e47873d1e60",
   "metadata": {
    "tags": []
   },
   "outputs": [],
   "source": [
    "d = joblib.load('games.pkl')"
   ]
  },
  {
   "cell_type": "code",
   "execution_count": null,
   "id": "42b369ae-829f-4cc7-99f8-44c510c86dc2",
   "metadata": {
    "tags": []
   },
   "outputs": [],
   "source": [
    "len(d)"
   ]
  },
  {
   "cell_type": "code",
   "execution_count": null,
   "id": "dd589c8e-9618-4a4b-ad1e-d2924181538f",
   "metadata": {
    "tags": []
   },
   "outputs": [],
   "source": [
    "type(d[0])"
   ]
  },
  {
   "cell_type": "code",
   "execution_count": null,
   "id": "0b6969b2-e431-4845-ad7b-4dd409a63c91",
   "metadata": {
    "tags": []
   },
   "outputs": [],
   "source": [
    "[i for i in d if type(d)==tuple]"
   ]
  },
  {
   "cell_type": "code",
   "execution_count": null,
   "id": "e21b2447-760a-4230-b88d-efdf5db5d124",
   "metadata": {},
   "outputs": [],
   "source": []
  },
  {
   "cell_type": "code",
   "execution_count": null,
   "id": "6eb15904-5481-4ee0-98b6-31ac76ccdfde",
   "metadata": {
    "tags": []
   },
   "outputs": [],
   "source": [
    "load_dotenv()\n",
    "CONN_STRING = os.getenv(\"CONN_STRING\")"
   ]
  },
  {
   "cell_type": "code",
   "execution_count": null,
   "id": "8ba35ab5-87b3-43e9-9c6c-a29e9bc132ad",
   "metadata": {
    "tags": []
   },
   "outputs": [],
   "source": [
    "from database.database.engine import init_db"
   ]
  },
  {
   "cell_type": "code",
   "execution_count": null,
   "id": "e3d9cf26-032a-4a8f-9681-dadebb193e98",
   "metadata": {
    "tags": []
   },
   "outputs": [],
   "source": [
    "init_db(CONN_STRING)"
   ]
  },
  {
   "cell_type": "code",
   "execution_count": null,
   "id": "eaf402e4-bea2-4df5-9dfe-b274cd84fbbc",
   "metadata": {
    "tags": []
   },
   "outputs": [],
   "source": [
    "player_interface = DBInterface(Player)\n",
    "game_interface = DBInterface(Game)"
   ]
  },
  {
   "cell_type": "code",
   "execution_count": null,
   "id": "ef7da921-fd95-4347-a1f4-9183811f886c",
   "metadata": {},
   "outputs": [],
   "source": []
  },
  {
   "cell_type": "code",
   "execution_count": null,
   "id": "c0e2bc93-1bbf-4fab-b563-de57adbb9453",
   "metadata": {
    "tags": []
   },
   "outputs": [],
   "source": [
    "player_interface.player_exists('mishanick')"
   ]
  },
  {
   "cell_type": "code",
   "execution_count": null,
   "id": "1e55e7ed-35fc-4791-b19f-9f913962fb5c",
   "metadata": {
    "tags": []
   },
   "outputs": [],
   "source": [
    "player_interface.read_all()"
   ]
  },
  {
   "cell_type": "code",
   "execution_count": null,
   "id": "1e3f36fe-6f9b-4bd4-b00b-20ebb513aad1",
   "metadata": {
    "tags": []
   },
   "outputs": [],
   "source": [
    "session = DBSession()\n",
    "white = session.query(\n",
    "    game_interface.db_class\n",
    ").where(game_interface.db_class.white =='pat_buchanan').all()\n",
    "black = session.query(\n",
    "    game_interface.db_class\n",
    ").where(game_interface.db_class.black =='pat_buchanan').all()"
   ]
  },
  {
   "cell_type": "code",
   "execution_count": null,
   "id": "520fa4fb-c148-4e52-b86e-a4d9a2fcdc18",
   "metadata": {
    "tags": []
   },
   "outputs": [],
   "source": [
    "white[0].black"
   ]
  },
  {
   "cell_type": "code",
   "execution_count": null,
   "id": "ba1949ec-e82d-467d-9b4a-a42be0ec909a",
   "metadata": {
    "tags": []
   },
   "outputs": [],
   "source": [
    "black[0].white"
   ]
  },
  {
   "cell_type": "code",
   "execution_count": null,
   "id": "a3db3d5d-868a-4a22-b3dd-cb5b01a17975",
   "metadata": {
    "tags": []
   },
   "outputs": [],
   "source": [
    "white + black"
   ]
  },
  {
   "cell_type": "code",
   "execution_count": null,
   "id": "54d5f7f1-1bda-4f73-b5c1-51e7e80a97df",
   "metadata": {},
   "outputs": [],
   "source": []
  },
  {
   "cell_type": "code",
   "execution_count": null,
   "id": "3ac52f72-0550-412e-9bae-8b21cefe04d3",
   "metadata": {},
   "outputs": [],
   "source": []
  },
  {
   "cell_type": "code",
   "execution_count": null,
   "id": "744b0c58-3bb4-4c6b-911b-db54e7a62fe5",
   "metadata": {},
   "outputs": [],
   "source": []
  },
  {
   "cell_type": "code",
   "execution_count": null,
   "id": "249ad96e-cebd-48f1-bcc2-6f00f9aa93b9",
   "metadata": {
    "tags": []
   },
   "outputs": [],
   "source": [
    "def get_pgn_item(game, item: str) -> str:\n",
    "    if item == \"Termination\":\n",
    "        return (\n",
    "            game.split(f\"{item}\")[1]\n",
    "            .split(\"\\n\")[0]\n",
    "            .replace('\"', \"\")\n",
    "            .replace(\"]\", \"\")\n",
    "            .lower()\n",
    "        )\n",
    "    return (\n",
    "        game.split(f\"{item}\")[1]\n",
    "        .split(\"\\n\")[0]\n",
    "        .replace('\"', \"\")\n",
    "        .replace(\"]\", \"\")\n",
    "        .replace(\" \", \"\")\n",
    "        .lower()\n",
    "    )"
   ]
  },
  {
   "cell_type": "code",
   "execution_count": null,
   "id": "41098184-2566-4074-aa53-411dcb0cb514",
   "metadata": {
    "tags": []
   },
   "outputs": [],
   "source": [
    "def clean_games(game: str) -> bool:\n",
    "    \"\"\"\n",
    "    It validates games for length of moves and formatting errors\n",
    "\n",
    "    \"\"\"\n",
    "    game_with_more_than_n_moves = \"10. \"  # format: 'INT. '\n",
    "\n",
    "    try:\n",
    "        game.split(\"\\n\\n\")[1][:-4]\n",
    "    except:\n",
    "        return False\n",
    "    if not game_with_more_than_n_moves in game.split(\"\\n\\n\")[1][:-4]:\n",
    "        return False\n",
    "    if game.split(\"\\n\\n\")[1][:-4].startswith(\"1... \"):\n",
    "        return False\n",
    "    if (\n",
    "        \"/\"\n",
    "        in game.split(f\"TimeControl\")[1]\n",
    "        .split(\"\\n\")[0]\n",
    "        .replace('\"', \"\")\n",
    "        .replace(\"]\", \"\")\n",
    "        .replace(\" \", \"\")\n",
    "        .lower()\n",
    "    ):\n",
    "        return False\n",
    "    return True"
   ]
  },
  {
   "cell_type": "code",
   "execution_count": null,
   "id": "10038b25-7a5b-407a-8d5b-7497ab1f7270",
   "metadata": {
    "tags": []
   },
   "outputs": [],
   "source": [
    "valid_dates = [(2023, 1),(2023, 1),(2023, 1),(2023, 1),(2023, 1),(2023, 1)]"
   ]
  },
  {
   "cell_type": "code",
   "execution_count": null,
   "id": "955261d3-284e-4da9-8ad5-7ba11feb4c38",
   "metadata": {},
   "outputs": [],
   "source": [
    "def format_valid_dates(valid_dates):\n",
    "    months = ''\n",
    "    for date in valid_dates:\n",
    "        format = f'{date[0]}_{date[1]}###'\n",
    "        months += format\n",
    "    return months"
   ]
  },
  {
   "cell_type": "code",
   "execution_count": null,
   "id": "3b5beee4-5beb-4945-9dff-a3e53efba121",
   "metadata": {},
   "outputs": [],
   "source": [
    "format_valid_dates(valid_dates).split('###')"
   ]
  },
  {
   "cell_type": "code",
   "execution_count": null,
   "id": "80d9ad3f-688d-4179-a1c4-476a158b08e6",
   "metadata": {},
   "outputs": [],
   "source": []
  },
  {
   "cell_type": "code",
   "execution_count": null,
   "id": "79a4dd76-f965-49d4-bf2e-248bce3ee91e",
   "metadata": {},
   "outputs": [],
   "source": []
  },
  {
   "cell_type": "code",
   "execution_count": null,
   "id": "b14b0c22-5b60-4de2-8090-b7b834bcb963",
   "metadata": {},
   "outputs": [],
   "source": []
  },
  {
   "cell_type": "code",
   "execution_count": null,
   "id": "ed371f22-2f48-4b3c-bfa7-2a8a1f5538b4",
   "metadata": {
    "tags": []
   },
   "outputs": [],
   "source": [
    "player_name = 'hikaru'"
   ]
  },
  {
   "cell_type": "code",
   "execution_count": null,
   "id": "4b577f50-b58a-4d09-88c1-4adc2501f817",
   "metadata": {
    "tags": []
   },
   "outputs": [],
   "source": [
    "w = download_months(player_name, valid_dates)"
   ]
  },
  {
   "cell_type": "code",
   "execution_count": null,
   "id": "2bfe7035-3f4f-4acf-b727-2e94d26f8f50",
   "metadata": {},
   "outputs": [],
   "source": [
    "w[0]"
   ]
  },
  {
   "cell_type": "code",
   "execution_count": null,
   "id": "893f4954-7612-48a6-87b9-ab3d92456e38",
   "metadata": {},
   "outputs": [],
   "source": [
    "get_pgn_item(w[0], \"Link\")"
   ]
  },
  {
   "cell_type": "code",
   "execution_count": null,
   "id": "62b28a90-263a-4957-ad6e-d7b6a530521c",
   "metadata": {
    "tags": []
   },
   "outputs": [],
   "source": [
    "games = [game for game in w if clean_games(game)]"
   ]
  },
  {
   "cell_type": "code",
   "execution_count": null,
   "id": "5a7e0ee3-fa83-400a-9529-5c67316c2f45",
   "metadata": {
    "tags": []
   },
   "outputs": [],
   "source": [
    "len(w)"
   ]
  },
  {
   "cell_type": "code",
   "execution_count": null,
   "id": "d94b7526-40af-45dc-994b-1fd7b70d812d",
   "metadata": {
    "tags": []
   },
   "outputs": [],
   "source": [
    "int(get_pgn_item(w[0], \"[Link\").split(\"/\")[-1])"
   ]
  },
  {
   "cell_type": "code",
   "execution_count": null,
   "id": "77977784-252c-49ab-989e-58dc83aadfd1",
   "metadata": {
    "tags": []
   },
   "outputs": [],
   "source": [
    "players_and_game_id = np.array(\n",
    "        [\n",
    "            [\n",
    "                get_pgn_item(game, \"White\").lower(),\n",
    "                get_pgn_item(game, \"Black\").lower(),\n",
    "                int(get_pgn_item(game, \"[Link\").split(\"/\")[-1]),\n",
    "            ]\n",
    "            for game in games\n",
    "        ]\n",
    "    )"
   ]
  },
  {
   "cell_type": "code",
   "execution_count": null,
   "id": "6b0b5eab-81f5-411f-8041-e516abceb348",
   "metadata": {
    "tags": []
   },
   "outputs": [],
   "source": [
    "players_and_game_id"
   ]
  },
  {
   "cell_type": "code",
   "execution_count": null,
   "id": "341981df-6e45-4263-8e70-9f4df7c9d807",
   "metadata": {},
   "outputs": [],
   "source": []
  },
  {
   "cell_type": "code",
   "execution_count": null,
   "id": "230bee19-e11f-4528-9cf1-d01111194408",
   "metadata": {
    "tags": []
   },
   "outputs": [],
   "source": [
    "def create_month(params: list) -> None:\n",
    "    \"\"\"\n",
    "    Download a month, splits the games and return a list of pgn games.\n",
    "    \"\"\"\n",
    "    pgn = download_month(params[\"player_name\"], params[\"year\"], params[\"month\"])\n",
    "    if pgn == False:\n",
    "        params[\"return_games\"].extend(False)\n",
    "        return\n",
    "    games = pgn.read().split(\"\\n\\n\\n\")\n",
    "    return games"
   ]
  },
  {
   "cell_type": "code",
   "execution_count": null,
   "id": "66003c83-e033-4212-8ed9-e772418ca731",
   "metadata": {
    "tags": []
   },
   "outputs": [],
   "source": [
    "pgn = download_month('hikaru', '2023', '1')"
   ]
  },
  {
   "cell_type": "code",
   "execution_count": null,
   "id": "54013356-593e-4af8-bc3f-5b77d04d21b3",
   "metadata": {
    "tags": []
   },
   "outputs": [],
   "source": [
    "pgn = pgn.read().split(\"\\n\\n\\n\")"
   ]
  },
  {
   "cell_type": "code",
   "execution_count": 2,
   "id": "b8f5cc6a-e582-4a1e-aef1-2ec3f4698543",
   "metadata": {},
   "outputs": [],
   "source": [
    "def get_ask_connection():\n",
    "    CONN_STRING = os.getenv(\"PSYCOPG2_CONN_STRING\")\n",
    "    return psycopg2.connect(CONN_STRING, port = 5433)\n",
    "\n",
    "\n",
    "def player_exists_at_db(player_name: str):\n",
    "    conn = get_ask_connection()\n",
    "    with conn.cursor() as curs:\n",
    "        curs.execute(\n",
    "            f\"select player_name from player where player_name='{player_name}'\"\n",
    "        )\n",
    "        result = curs.fetchall()\n",
    "    if len(result) == 1:\n",
    "        return True\n",
    "    return False\n",
    "def get_games(player_name: str):\n",
    "    conn = get_ask_connection()\n",
    "    with conn.cursor() as curs:\n",
    "        curs.execute(\n",
    "            f\"select id from game where white='{player_name}'\"\n",
    "        )\n",
    "        result = curs.fetchall()\n",
    "    return result\n",
    "def get_all_players():\n",
    "    conn = get_ask_connection()\n",
    "    with conn.cursor() as curs:\n",
    "        curs.execute(\n",
    "            f\"select player_name from player\"\n",
    "        )\n",
    "        result = curs.fetchall()\n",
    "    return result\n",
    "def open_request(sql_question:str):\n",
    "    conn = get_ask_connection()\n",
    "    with conn.cursor() as curs:\n",
    "        curs.execute(\n",
    "            sql_question\n",
    "        )\n",
    "        result = curs.fetchall()\n",
    "    return result"
   ]
  },
  {
   "cell_type": "code",
   "execution_count": null,
   "id": "04be285e-60d1-4786-8ab6-186ec91500c9",
   "metadata": {
    "tags": []
   },
   "outputs": [],
   "source": [
    "open_request(f\"select * from player\")"
   ]
  },
  {
   "cell_type": "code",
   "execution_count": 26,
   "id": "78f74584-5e21-4231-bbdb-ab4f124f5309",
   "metadata": {},
   "outputs": [],
   "source": [
    "mo = open_request(f\"select dates from months where months.player_name = 'hikaru'\")"
   ]
  },
  {
   "cell_type": "code",
   "execution_count": 27,
   "id": "4a3e837e-2d7b-437f-8ccc-1c8da0fa7b2c",
   "metadata": {
    "tags": []
   },
   "outputs": [
    {
     "data": {
      "text/plain": [
       "0"
      ]
     },
     "execution_count": 27,
     "metadata": {},
     "output_type": "execute_result"
    }
   ],
   "source": [
    "len(mo)"
   ]
  },
  {
   "cell_type": "code",
   "execution_count": 28,
   "id": "ecc2f856-161c-4f9b-a014-46d3482796dd",
   "metadata": {
    "tags": []
   },
   "outputs": [
    {
     "name": "stdout",
     "output_type": "stream",
     "text": [
      "Mo\n"
     ]
    }
   ],
   "source": [
    "if not mo:\n",
    "    print('Mo')"
   ]
  },
  {
   "cell_type": "code",
   "execution_count": 11,
   "id": "d0209263-ded0-485e-98c3-71971de6f1fe",
   "metadata": {
    "tags": []
   },
   "outputs": [
    {
     "data": {
      "text/plain": [
       "'2021_3###2021_2###2021_5###2021_4###2021_1###'"
      ]
     },
     "execution_count": 11,
     "metadata": {},
     "output_type": "execute_result"
    }
   ],
   "source": [
    "dates"
   ]
  },
  {
   "cell_type": "code",
   "execution_count": 19,
   "id": "dc162e11-fcd6-472d-aef4-b49913332762",
   "metadata": {
    "tags": []
   },
   "outputs": [],
   "source": [
    "w = [6410917729, 6400362319, 6400292960, 6400092841, 6400010655, 6348792540, 6348712561, 6337108937, 6227713685, 6225888016, 6225817849, 6220966157, 6201443796, 6201013151, 6200999263, 6200973865, 6197653773, 6197453000, 6197411167, 6191966718, 6191875284, 6178893187, 6141476402, 6141219]\n"
   ]
  },
  {
   "cell_type": "code",
   "execution_count": 20,
   "id": "7a01d3ce-127e-4b43-888a-4fc4fe8f0876",
   "metadata": {},
   "outputs": [
    {
     "name": "stdout",
     "output_type": "stream",
     "text": [
      "[]\n",
      "[]\n",
      "[]\n",
      "[]\n",
      "[]\n",
      "[]\n",
      "[]\n",
      "[]\n",
      "[]\n",
      "[]\n",
      "[]\n",
      "[]\n",
      "[]\n",
      "[]\n",
      "[]\n",
      "[]\n",
      "[]\n",
      "[]\n",
      "[]\n",
      "[]\n",
      "[]\n",
      "[]\n",
      "[]\n",
      "[]\n"
     ]
    }
   ],
   "source": [
    "for i in w:\n",
    "    print(open_request(f\"select * from game where game.id = {i}\"))"
   ]
  },
  {
   "cell_type": "code",
   "execution_count": 26,
   "id": "d18d4760-7934-4825-b809-ed296dbf744c",
   "metadata": {},
   "outputs": [],
   "source": [
    "a = [(2021,1),(2021,2), (2021,1)]\n",
    "b = [(2021,1),(2021,6)]"
   ]
  },
  {
   "cell_type": "code",
   "execution_count": 27,
   "id": "ac2519de-0018-4f24-910c-a7bdb34f203f",
   "metadata": {
    "tags": []
   },
   "outputs": [
    {
     "data": {
      "text/plain": [
       "{(2021, 1), (2021, 2)}"
      ]
     },
     "execution_count": 27,
     "metadata": {},
     "output_type": "execute_result"
    }
   ],
   "source": [
    "set(a)"
   ]
  },
  {
   "cell_type": "code",
   "execution_count": 28,
   "id": "b5cf553b-6964-4c2e-b90d-1c8873f55d60",
   "metadata": {
    "tags": []
   },
   "outputs": [],
   "source": [
    "c = a+b"
   ]
  },
  {
   "cell_type": "code",
   "execution_count": 29,
   "id": "65d7f316-97d3-4987-a0ab-3f345cc3c7e7",
   "metadata": {
    "tags": []
   },
   "outputs": [
    {
     "data": {
      "text/plain": [
       "{(2021, 1), (2021, 2), (2021, 6)}"
      ]
     },
     "execution_count": 29,
     "metadata": {},
     "output_type": "execute_result"
    }
   ],
   "source": [
    "set(c)"
   ]
  },
  {
   "cell_type": "code",
   "execution_count": 34,
   "id": "69c27e07-6359-4d28-a4e5-257715d09883",
   "metadata": {
    "tags": []
   },
   "outputs": [],
   "source": [
    "e = \"2021_2###2021_3###2021_4###2021_5\""
   ]
  },
  {
   "cell_type": "code",
   "execution_count": 35,
   "id": "1898dc8d-b24a-4214-85c8-756e1b90f1c2",
   "metadata": {
    "tags": []
   },
   "outputs": [],
   "source": [
    "e = [(int(x.split('_')[0]),int(x.split('_')[1])) for x in e.split('###')]"
   ]
  },
  {
   "cell_type": "code",
   "execution_count": 36,
   "id": "4e2eca86-42c8-4865-8db7-54d3a2ad96f3",
   "metadata": {
    "tags": []
   },
   "outputs": [
    {
     "data": {
      "text/plain": [
       "[(2021, 2), (2021, 3), (2021, 4), (2021, 5)]"
      ]
     },
     "execution_count": 36,
     "metadata": {},
     "output_type": "execute_result"
    }
   ],
   "source": [
    "e"
   ]
  },
  {
   "cell_type": "code",
   "execution_count": 37,
   "id": "9aaedb23-9b25-45e7-8941-a317c75feb13",
   "metadata": {
    "tags": []
   },
   "outputs": [
    {
     "data": {
      "text/plain": [
       "[(2021, 1), (2021, 2), (2021, 1), (2021, 1), (2021, 6)]"
      ]
     },
     "execution_count": 37,
     "metadata": {},
     "output_type": "execute_result"
    }
   ],
   "source": [
    "c"
   ]
  },
  {
   "cell_type": "code",
   "execution_count": 38,
   "id": "f574120e-a27e-44e2-95cf-b32510016745",
   "metadata": {
    "tags": []
   },
   "outputs": [
    {
     "data": {
      "text/plain": [
       "[(2021, 1), (2021, 1), (2021, 1), (2021, 6)]"
      ]
     },
     "execution_count": 38,
     "metadata": {},
     "output_type": "execute_result"
    }
   ],
   "source": [
    "[x for x in c if x not in e]"
   ]
  },
  {
   "cell_type": "code",
   "execution_count": null,
   "id": "8f815b6e-f280-4370-93dd-7eed6c68926d",
   "metadata": {},
   "outputs": [],
   "source": []
  },
  {
   "cell_type": "code",
   "execution_count": null,
   "id": "3ab0723e-1c4e-4d34-b54f-fa7f9811f734",
   "metadata": {
    "tags": []
   },
   "outputs": [],
   "source": [
    "get_all_players()"
   ]
  },
  {
   "cell_type": "code",
   "execution_count": null,
   "id": "2e79129f-b35b-4ac4-ae2e-f9be295965a6",
   "metadata": {},
   "outputs": [],
   "source": [
    "player_exists_at_db('hikaru'.lower())"
   ]
  },
  {
   "cell_type": "code",
   "execution_count": null,
   "id": "0ca8b482-f950-4630-b845-88fbac0211ae",
   "metadata": {},
   "outputs": [],
   "source": [
    "get_profile('sdssssdfssssssssssssss')"
   ]
  },
  {
   "cell_type": "code",
   "execution_count": null,
   "id": "c7104b71-beb6-41b4-afec-329f0ab78fb3",
   "metadata": {},
   "outputs": [],
   "source": [
    "player_name = 'Pat_Buchanan'"
   ]
  },
  {
   "cell_type": "code",
   "execution_count": null,
   "id": "a4edaf57-82d8-4285-a486-6a6cfb38e571",
   "metadata": {},
   "outputs": [],
   "source": [
    "prof = get_profile(player_name)"
   ]
  },
  {
   "cell_type": "code",
   "execution_count": null,
   "id": "be7f2b8e-8990-48c3-97c1-b75d9fae4e01",
   "metadata": {},
   "outputs": [],
   "source": [
    "prof"
   ]
  },
  {
   "cell_type": "code",
   "execution_count": null,
   "id": "02d0da3c-0489-45f8-a65d-9e385d2a2e91",
   "metadata": {},
   "outputs": [],
   "source": [
    "type(prof)"
   ]
  },
  {
   "cell_type": "code",
   "execution_count": null,
   "id": "7b50b8cf-c206-4200-8b6c-922e84fadd75",
   "metadata": {},
   "outputs": [],
   "source": [
    "country = prof.pop('country').split('/')[-1]"
   ]
  },
  {
   "cell_type": "code",
   "execution_count": null,
   "id": "1093209b-2831-4b1c-aa25-26feedf3dfef",
   "metadata": {},
   "outputs": [],
   "source": [
    "country"
   ]
  },
  {
   "cell_type": "code",
   "execution_count": null,
   "id": "2bf6c1a0-fabd-49f2-9f10-3df0e84aa73d",
   "metadata": {},
   "outputs": [],
   "source": []
  },
  {
   "cell_type": "code",
   "execution_count": null,
   "id": "2ce599f8-05b4-45d3-b47a-3c139990f183",
   "metadata": {},
   "outputs": [],
   "source": [
    "member_exists(player_name = 'hikaru')"
   ]
  },
  {
   "cell_type": "code",
   "execution_count": null,
   "id": "449f34ba-db92-4de4-b782-b5a3c14bc6ba",
   "metadata": {},
   "outputs": [],
   "source": []
  },
  {
   "cell_type": "code",
   "execution_count": null,
   "id": "e723e79b-4324-4e68-8b1e-a5f9ee2498b2",
   "metadata": {},
   "outputs": [],
   "source": []
  },
  {
   "cell_type": "code",
   "execution_count": null,
   "id": "4d4b10fd-37b2-4fc7-b338-92ad24125530",
   "metadata": {},
   "outputs": [],
   "source": []
  },
  {
   "cell_type": "code",
   "execution_count": null,
   "id": "56498ce1-3fbd-4f4b-85f3-9cd35eccbe8e",
   "metadata": {},
   "outputs": [],
   "source": [
    "from database.operations.models import PlayerCreateData, PlayerResult"
   ]
  },
  {
   "cell_type": "code",
   "execution_count": null,
   "id": "77294b71-53f1-4490-b1c2-6441ab47d721",
   "metadata": {},
   "outputs": [],
   "source": [
    "profile = get_profile('pat_buchanan')"
   ]
  },
  {
   "cell_type": "code",
   "execution_count": null,
   "id": "c0cc7ab4-ab24-46e1-ba88-a1ce94065990",
   "metadata": {},
   "outputs": [],
   "source": [
    "profile.pop('@id')"
   ]
  },
  {
   "cell_type": "code",
   "execution_count": null,
   "id": "f7120cbb-4f9b-490a-8d5f-2ba998ebb007",
   "metadata": {},
   "outputs": [],
   "source": [
    "p_name = profile.pop('name')"
   ]
  },
  {
   "cell_type": "code",
   "execution_count": null,
   "id": "3205380e-d26d-4407-9548-4e27e61511ee",
   "metadata": {},
   "outputs": [],
   "source": [
    "p_name"
   ]
  },
  {
   "cell_type": "code",
   "execution_count": null,
   "id": "fca0c1ac-cc5c-4fb1-9d53-845e34146a5a",
   "metadata": {},
   "outputs": [],
   "source": [
    "profile"
   ]
  },
  {
   "cell_type": "code",
   "execution_count": null,
   "id": "26ecf4e5-3e4a-4a1f-915c-5c5804f0ef98",
   "metadata": {},
   "outputs": [],
   "source": [
    "from pydantic import BaseModel\n",
    "class PlayerCreateData(BaseModel):\n",
    "    player_name: str\n",
    "    name: str = 'None'\n",
    "    url: str = 'None'\n",
    "    title: str = 'None'\n",
    "    avatar: str = 'None'\n",
    "    player_id: int = 0\n",
    "    followers: int = 0\n",
    "    country: str = 'None'\n",
    "    location: str = 'None'\n",
    "    joined: int = 0\n",
    "    status: str = 'None'\n",
    "    is_streamer: bool = False\n",
    "    twitch_url: str = 'None'\n",
    "    verified: bool = False\n",
    "    league: str = 'None'"
   ]
  },
  {
   "cell_type": "code",
   "execution_count": null,
   "id": "af12049f-b19b-464a-9dfa-c345d92a0ebf",
   "metadata": {},
   "outputs": [],
   "source": []
  },
  {
   "cell_type": "code",
   "execution_count": null,
   "id": "cdb309cc-9cba-4371-802e-e9314dc23351",
   "metadata": {},
   "outputs": [],
   "source": [
    "a = PlayerCreateData(**{'player_name':'hikaru'})"
   ]
  },
  {
   "cell_type": "code",
   "execution_count": null,
   "id": "0bae8aa5-cbf3-498b-a709-f45153b18560",
   "metadata": {},
   "outputs": [],
   "source": [
    "a"
   ]
  },
  {
   "cell_type": "code",
   "execution_count": null,
   "id": "43bb69fa-7792-4eec-8a5b-a8d0238e598c",
   "metadata": {},
   "outputs": [],
   "source": [
    "a.model_dump()"
   ]
  },
  {
   "cell_type": "code",
   "execution_count": null,
   "id": "6c88eba4-957a-4fd0-b72d-b5f50418ebed",
   "metadata": {},
   "outputs": [],
   "source": []
  },
  {
   "cell_type": "code",
   "execution_count": null,
   "id": "3a2b0552-6cef-4b0b-82d8-c2c56268a633",
   "metadata": {},
   "outputs": [],
   "source": []
  },
  {
   "cell_type": "code",
   "execution_count": null,
   "id": "cc2cd098-62dd-45ef-98c1-93980ff23857",
   "metadata": {},
   "outputs": [],
   "source": []
  },
  {
   "cell_type": "code",
   "execution_count": null,
   "id": "7b80349d-4491-416b-9d3d-d6f52fc9f1e3",
   "metadata": {},
   "outputs": [],
   "source": [
    "class Person(db.Model):\n",
    "    id = db.Column(db.Integer, primary_key=True)\n",
    "\n",
    "    user = db.relationship(\"BankSlip\", foreign_keys='BankSlip.person_user_id', back_populates=\"person_user\")\n",
    "    reference = db.relationship(\"BankSlip\", foreign_keys='BankSlip.person_ref_id', back_populates=\"person_reference\")"
   ]
  },
  {
   "cell_type": "code",
   "execution_count": null,
   "id": "fab05979-88ac-49a2-a7d7-58870b7eb51d",
   "metadata": {},
   "outputs": [],
   "source": []
  },
  {
   "cell_type": "code",
   "execution_count": null,
   "id": "aa338d94-02ed-43b9-afc8-5fc00a9b23b4",
   "metadata": {},
   "outputs": [],
   "source": []
  },
  {
   "cell_type": "code",
   "execution_count": null,
   "id": "6b287d7e-32f1-4af3-8618-464f82b693c9",
   "metadata": {},
   "outputs": [],
   "source": []
  },
  {
   "cell_type": "code",
   "execution_count": null,
   "id": "8c9dccff-8143-440e-aaa2-1f01d458d4a8",
   "metadata": {},
   "outputs": [],
   "source": []
  },
  {
   "cell_type": "code",
   "execution_count": null,
   "id": "f640be0c-4bf2-4f09-9eca-c9b78cce8d7a",
   "metadata": {},
   "outputs": [],
   "source": []
  },
  {
   "cell_type": "code",
   "execution_count": null,
   "id": "91d601a6-c15a-479f-938f-6fcf19a6c84e",
   "metadata": {},
   "outputs": [],
   "source": []
  },
  {
   "cell_type": "code",
   "execution_count": null,
   "id": "b8a9f533-e042-47ec-81ec-3b07cad9c78a",
   "metadata": {},
   "outputs": [],
   "source": []
  },
  {
   "cell_type": "code",
   "execution_count": null,
   "id": "2ac28ab4-2c98-4090-9f09-7249a45ff49e",
   "metadata": {},
   "outputs": [],
   "source": []
  },
  {
   "cell_type": "code",
   "execution_count": null,
   "id": "3059fd1a-e0f0-4c9b-bf3e-05881f5ca366",
   "metadata": {},
   "outputs": [],
   "source": []
  },
  {
   "cell_type": "code",
   "execution_count": null,
   "id": "bdeade2e-1881-4167-bf4d-a04939d54738",
   "metadata": {},
   "outputs": [],
   "source": []
  },
  {
   "cell_type": "code",
   "execution_count": null,
   "id": "daff2932-4dc4-4b81-bdd5-3d9bc9c78cf1",
   "metadata": {},
   "outputs": [],
   "source": []
  },
  {
   "cell_type": "code",
   "execution_count": null,
   "id": "d126c1d4-74f7-4937-afb1-ddb923a70bcd",
   "metadata": {},
   "outputs": [],
   "source": []
  }
 ],
 "metadata": {
  "kernelspec": {
   "display_name": "chess",
   "language": "python",
   "name": "chess"
  },
  "language_info": {
   "codemirror_mode": {
    "name": "ipython",
    "version": 3
   },
   "file_extension": ".py",
   "mimetype": "text/x-python",
   "name": "python",
   "nbconvert_exporter": "python",
   "pygments_lexer": "ipython3",
   "version": "3.9.18"
  }
 },
 "nbformat": 4,
 "nbformat_minor": 5
}
