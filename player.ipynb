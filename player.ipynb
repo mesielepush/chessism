{
 "cells": [
  {
   "cell_type": "code",
   "execution_count": 8,
   "id": "8d26453d-7761-484d-a682-3a4b4b800a38",
   "metadata": {},
   "outputs": [],
   "source": [
    "import json\n",
    "import pandas as pd\n",
    "import numpy as np\n",
    "from database.operations.chess_com_api import get_profile\n",
    "import requests\n",
    "from dotenv import load_dotenv\n",
    "import os\n",
    "import psycopg2\n",
    "from bs4 import BeautifulSoup\n",
    "import joblib\n",
    "from database.operations.download_games import download_months\n",
    "from database.operations.players import read_oponents, read_all_players\n",
    "from database.database.db_interface import DBInterface\n",
    "from database.database.models import Player, Game\n",
    "from database.database.engine import DBSession\n",
    "from database.operations.models import PlayerCreateData"
   ]
  },
  {
   "cell_type": "code",
   "execution_count": 2,
   "id": "232b66be-6e1c-41a6-ae61-c895ebd328ac",
   "metadata": {},
   "outputs": [],
   "source": [
    "profile= {'player_name':'pipi'}\n",
    "profile = PlayerCreateData(**profile)"
   ]
  },
  {
   "cell_type": "code",
   "execution_count": 3,
   "id": "63539d66-011f-4f14-a928-18eb468023d7",
   "metadata": {},
   "outputs": [
    {
     "data": {
      "text/plain": [
       "PlayerCreateData(player_name='pipi', name='None', url='None', title='None', avatar='None', player_id=0, followers=0, country='None', location='None', joined=0, status='None', is_streamer=False, twitch_url='None', verified=False, league='None')"
      ]
     },
     "execution_count": 3,
     "metadata": {},
     "output_type": "execute_result"
    }
   ],
   "source": [
    "profile"
   ]
  },
  {
   "cell_type": "code",
   "execution_count": 22,
   "id": "daefe5cb-86dc-4cca-81e0-6e47873d1e60",
   "metadata": {
    "tags": []
   },
   "outputs": [],
   "source": [
    "d = joblib.load('games.pkl')"
   ]
  },
  {
   "cell_type": "code",
   "execution_count": 23,
   "id": "42b369ae-829f-4cc7-99f8-44c510c86dc2",
   "metadata": {
    "tags": []
   },
   "outputs": [
    {
     "ename": "TypeError",
     "evalue": "object of type 'NoneType' has no len()",
     "output_type": "error",
     "traceback": [
      "\u001b[0;31m---------------------------------------------------------------------------\u001b[0m",
      "\u001b[0;31mTypeError\u001b[0m                                 Traceback (most recent call last)",
      "Cell \u001b[0;32mIn[23], line 1\u001b[0m\n\u001b[0;32m----> 1\u001b[0m \u001b[38;5;28;43mlen\u001b[39;49m\u001b[43m(\u001b[49m\u001b[43md\u001b[49m\u001b[43m)\u001b[49m\n",
      "\u001b[0;31mTypeError\u001b[0m: object of type 'NoneType' has no len()"
     ]
    }
   ],
   "source": [
    "len(d)"
   ]
  },
  {
   "cell_type": "code",
   "execution_count": 8,
   "id": "dd589c8e-9618-4a4b-ad1e-d2924181538f",
   "metadata": {
    "tags": []
   },
   "outputs": [
    {
     "data": {
      "text/plain": [
       "database.operations.models.PlayerCreateData"
      ]
     },
     "execution_count": 8,
     "metadata": {},
     "output_type": "execute_result"
    }
   ],
   "source": [
    "type(d[0])"
   ]
  },
  {
   "cell_type": "code",
   "execution_count": 9,
   "id": "0b6969b2-e431-4845-ad7b-4dd409a63c91",
   "metadata": {
    "tags": []
   },
   "outputs": [
    {
     "data": {
      "text/plain": [
       "[]"
      ]
     },
     "execution_count": 9,
     "metadata": {},
     "output_type": "execute_result"
    }
   ],
   "source": [
    "[i for i in d if type(d)==tuple]"
   ]
  },
  {
   "cell_type": "code",
   "execution_count": null,
   "id": "e21b2447-760a-4230-b88d-efdf5db5d124",
   "metadata": {},
   "outputs": [],
   "source": []
  },
  {
   "cell_type": "code",
   "execution_count": 6,
   "id": "6eb15904-5481-4ee0-98b6-31ac76ccdfde",
   "metadata": {
    "tags": []
   },
   "outputs": [],
   "source": [
    "load_dotenv()\n",
    "CONN_STRING = os.getenv(\"CONN_STRING\")"
   ]
  },
  {
   "cell_type": "code",
   "execution_count": 7,
   "id": "8ba35ab5-87b3-43e9-9c6c-a29e9bc132ad",
   "metadata": {
    "tags": []
   },
   "outputs": [],
   "source": [
    "from database.database.engine import init_db"
   ]
  },
  {
   "cell_type": "code",
   "execution_count": 8,
   "id": "e3d9cf26-032a-4a8f-9681-dadebb193e98",
   "metadata": {
    "tags": []
   },
   "outputs": [],
   "source": [
    "init_db(CONN_STRING)"
   ]
  },
  {
   "cell_type": "code",
   "execution_count": 4,
   "id": "eaf402e4-bea2-4df5-9dfe-b274cd84fbbc",
   "metadata": {
    "tags": []
   },
   "outputs": [],
   "source": [
    "player_interface = DBInterface(Player)\n",
    "game_interface = DBInterface(Game)"
   ]
  },
  {
   "cell_type": "code",
   "execution_count": null,
   "id": "ef7da921-fd95-4347-a1f4-9183811f886c",
   "metadata": {},
   "outputs": [],
   "source": []
  },
  {
   "cell_type": "code",
   "execution_count": 11,
   "id": "c0e2bc93-1bbf-4fab-b563-de57adbb9453",
   "metadata": {
    "tags": []
   },
   "outputs": [
    {
     "data": {
      "text/plain": [
       "True"
      ]
     },
     "execution_count": 11,
     "metadata": {},
     "output_type": "execute_result"
    }
   ],
   "source": [
    "player_interface.player_exists('mishanick')"
   ]
  },
  {
   "cell_type": "code",
   "execution_count": null,
   "id": "1e55e7ed-35fc-4791-b19f-9f913962fb5c",
   "metadata": {
    "tags": []
   },
   "outputs": [],
   "source": [
    "player_interface.read_all()"
   ]
  },
  {
   "cell_type": "code",
   "execution_count": 60,
   "id": "1e3f36fe-6f9b-4bd4-b00b-20ebb513aad1",
   "metadata": {
    "tags": []
   },
   "outputs": [],
   "source": [
    "session = DBSession()\n",
    "white = session.query(\n",
    "    game_interface.db_class\n",
    ").where(game_interface.db_class.white =='pat_buchanan').all()\n",
    "black = session.query(\n",
    "    game_interface.db_class\n",
    ").where(game_interface.db_class.black =='pat_buchanan').all()"
   ]
  },
  {
   "cell_type": "code",
   "execution_count": 63,
   "id": "520fa4fb-c148-4e52-b86e-a4d9a2fcdc18",
   "metadata": {
    "tags": []
   },
   "outputs": [
    {
     "data": {
      "text/plain": [
       "'hikaru'"
      ]
     },
     "execution_count": 63,
     "metadata": {},
     "output_type": "execute_result"
    }
   ],
   "source": [
    "white[0].black"
   ]
  },
  {
   "cell_type": "code",
   "execution_count": 64,
   "id": "ba1949ec-e82d-467d-9b4a-a42be0ec909a",
   "metadata": {
    "tags": []
   },
   "outputs": [
    {
     "data": {
      "text/plain": [
       "'hikaru'"
      ]
     },
     "execution_count": 64,
     "metadata": {},
     "output_type": "execute_result"
    }
   ],
   "source": [
    "black[0].white"
   ]
  },
  {
   "cell_type": "code",
   "execution_count": 65,
   "id": "a3db3d5d-868a-4a22-b3dd-cb5b01a17975",
   "metadata": {
    "tags": []
   },
   "outputs": [
    {
     "data": {
      "text/plain": [
       "[<database.database.models.Game at 0x7fca064026d0>,\n",
       " <database.database.models.Game at 0x7fca06402280>,\n",
       " <database.database.models.Game at 0x7fca064027c0>,\n",
       " <database.database.models.Game at 0x7fca06385370>]"
      ]
     },
     "execution_count": 65,
     "metadata": {},
     "output_type": "execute_result"
    }
   ],
   "source": [
    "white + black"
   ]
  },
  {
   "cell_type": "code",
   "execution_count": null,
   "id": "54d5f7f1-1bda-4f73-b5c1-51e7e80a97df",
   "metadata": {},
   "outputs": [],
   "source": []
  },
  {
   "cell_type": "code",
   "execution_count": null,
   "id": "3ac52f72-0550-412e-9bae-8b21cefe04d3",
   "metadata": {},
   "outputs": [],
   "source": []
  },
  {
   "cell_type": "code",
   "execution_count": null,
   "id": "744b0c58-3bb4-4c6b-911b-db54e7a62fe5",
   "metadata": {},
   "outputs": [],
   "source": []
  },
  {
   "cell_type": "code",
   "execution_count": 3,
   "id": "249ad96e-cebd-48f1-bcc2-6f00f9aa93b9",
   "metadata": {
    "tags": []
   },
   "outputs": [],
   "source": [
    "def get_pgn_item(game, item: str) -> str:\n",
    "    if item == \"Termination\":\n",
    "        return (\n",
    "            game.split(f\"{item}\")[1]\n",
    "            .split(\"\\n\")[0]\n",
    "            .replace('\"', \"\")\n",
    "            .replace(\"]\", \"\")\n",
    "            .lower()\n",
    "        )\n",
    "    return (\n",
    "        game.split(f\"{item}\")[1]\n",
    "        .split(\"\\n\")[0]\n",
    "        .replace('\"', \"\")\n",
    "        .replace(\"]\", \"\")\n",
    "        .replace(\" \", \"\")\n",
    "        .lower()\n",
    "    )"
   ]
  },
  {
   "cell_type": "code",
   "execution_count": 4,
   "id": "41098184-2566-4074-aa53-411dcb0cb514",
   "metadata": {
    "tags": []
   },
   "outputs": [],
   "source": [
    "def clean_games(game: str) -> bool:\n",
    "    \"\"\"\n",
    "    It validates games for length of moves and formatting errors\n",
    "\n",
    "    \"\"\"\n",
    "    game_with_more_than_n_moves = \"10. \"  # format: 'INT. '\n",
    "\n",
    "    try:\n",
    "        game.split(\"\\n\\n\")[1][:-4]\n",
    "    except:\n",
    "        return False\n",
    "    if not game_with_more_than_n_moves in game.split(\"\\n\\n\")[1][:-4]:\n",
    "        return False\n",
    "    if game.split(\"\\n\\n\")[1][:-4].startswith(\"1... \"):\n",
    "        return False\n",
    "    if (\n",
    "        \"/\"\n",
    "        in game.split(f\"TimeControl\")[1]\n",
    "        .split(\"\\n\")[0]\n",
    "        .replace('\"', \"\")\n",
    "        .replace(\"]\", \"\")\n",
    "        .replace(\" \", \"\")\n",
    "        .lower()\n",
    "    ):\n",
    "        return False\n",
    "    return True"
   ]
  },
  {
   "cell_type": "code",
   "execution_count": 5,
   "id": "10038b25-7a5b-407a-8d5b-7497ab1f7270",
   "metadata": {
    "tags": []
   },
   "outputs": [],
   "source": [
    "valid_dates = [(2023, 1)]"
   ]
  },
  {
   "cell_type": "code",
   "execution_count": 6,
   "id": "ed371f22-2f48-4b3c-bfa7-2a8a1f5538b4",
   "metadata": {
    "tags": []
   },
   "outputs": [],
   "source": [
    "player_name = 'hikaru'"
   ]
  },
  {
   "cell_type": "code",
   "execution_count": 9,
   "id": "4b577f50-b58a-4d09-88c1-4adc2501f817",
   "metadata": {
    "tags": []
   },
   "outputs": [
    {
     "name": "stdout",
     "output_type": "stream",
     "text": [
      "GOT 517 games\n",
      "downloading over\n",
      "returned months = 517\n"
     ]
    }
   ],
   "source": [
    "w = download_months(player_name, valid_dates)"
   ]
  },
  {
   "cell_type": "code",
   "execution_count": 12,
   "id": "2bfe7035-3f4f-4acf-b727-2e94d26f8f50",
   "metadata": {},
   "outputs": [
    {
     "data": {
      "text/plain": [
       "'[Event \"Live Chess\"]\\n[Site \"Chess.com\"]\\n[Date \"2023.01.27\"]\\n[Round \"-\"]\\n[White \"DanielNaroditsky\"]\\n[Black \"Hikaru\"]\\n[Result \"0-1\"]\\n[CurrentPosition \"8/8/8/3k4/p1q5/8/3K4/8 w - -\"]\\n[Timezone \"UTC\"]\\n[ECO \"B12\"]\\n[ECOUrl \"https://www.chess.com/openings/Caro-Kann-Defense-Advance-Short-Variation-with-4-Nf3...5.Be2-Ne7-6.O-O-h6-7.Nbd2\"]\\n[UTCDate \"2023.01.27\"]\\n[UTCTime \"07:16:52\"]\\n[WhiteElo \"3283\"]\\n[BlackElo \"3317\"]\\n[TimeControl \"60\"]\\n[Termination \"Hikaru won by resignation\"]\\n[StartTime \"07:16:52\"]\\n[EndDate \"2023.01.27\"]\\n[EndTime \"07:19:27\"]\\n[Link \"https://www.chess.com/game/live/68542929653\"]\\n\\n1. e4 {[%clk 0:01:00]} 1... c6 {[%clk 0:01:00]} 2. d4 {[%clk 0:00:59.5]} 2... d5 {[%clk 0:00:59.9]} 3. e5 {[%clk 0:00:59.1]} 3... Bf5 {[%clk 0:00:59.5]} 4. Nf3 {[%clk 0:00:59]} 4... e6 {[%clk 0:00:59.1]} 5. Be2 {[%clk 0:00:58.9]} 5... Ne7 {[%clk 0:00:58.5]} 6. O-O {[%clk 0:00:58.8]} 6... h6 {[%clk 0:00:58.2]} 7. Nbd2 {[%clk 0:00:58.3]} 7... Nd7 {[%clk 0:00:57.9]} 8. Ne1 {[%clk 0:00:57.8]} 8... c5 {[%clk 0:00:57.1]} 9. dxc5 {[%clk 0:00:57.2]} 9... Nc6 {[%clk 0:00:56.5]} 10. Nd3 {[%clk 0:00:56.4]} 10... Nxc5 {[%clk 0:00:55.8]} 11. Nxc5 {[%clk 0:00:55.6]} 11... Bxc5 {[%clk 0:00:55.7]} 12. Nb3 {[%clk 0:00:55.4]} 12... Bb6 {[%clk 0:00:55.1]} 13. c3 {[%clk 0:00:54.5]} 13... Nxe5 {[%clk 0:00:54.3]} 14. Nd4 {[%clk 0:00:54.2]} 14... Bg6 {[%clk 0:00:53.3]} 15. Bb5+ {[%clk 0:00:53.8]} 15... Kf8 {[%clk 0:00:52.5]} 16. Re1 {[%clk 0:00:52.7]} 16... Qf6 {[%clk 0:00:51]} 17. Be3 {[%clk 0:00:51.6]} 17... Kg8 {[%clk 0:00:50.4]} 18. a4 {[%clk 0:00:49]} 18... h5 {[%clk 0:00:49.7]} 19. a5 {[%clk 0:00:48.5]} 19... Bc7 {[%clk 0:00:49.2]} 20. a6 {[%clk 0:00:48.2]} 20... bxa6 {[%clk 0:00:48]} 21. Bxa6 {[%clk 0:00:47.2]} 21... Ng4 {[%clk 0:00:47.7]} 22. h3 {[%clk 0:00:46.7]} 22... Bh2+ {[%clk 0:00:45]} 23. Kh1 {[%clk 0:00:46]} 23... Bf4 {[%clk 0:00:43.6]} 24. hxg4 {[%clk 0:00:42.9]} 24... hxg4+ {[%clk 0:00:41.8]} 25. Kg1 {[%clk 0:00:42.6]} 25... Qh4 {[%clk 0:00:38.1]} 26. Kf1 {[%clk 0:00:42.1]} 26... g3 {[%clk 0:00:37.7]} 27. Nf3 {[%clk 0:00:39]} 27... Qg4 {[%clk 0:00:33]} 28. Qd4 {[%clk 0:00:37.9]} 28... Be4 {[%clk 0:00:31.7]} 29. Bxf4 {[%clk 0:00:35.7]} 29... Qxf4 {[%clk 0:00:31.2]} 30. fxg3 {[%clk 0:00:34.3]} 30... Qxg3 {[%clk 0:00:28.7]} 31. Qf2 {[%clk 0:00:34]} 31... Qg4 {[%clk 0:00:27.9]} 32. Ke2 {[%clk 0:00:32]} 32... Rh2 {[%clk 0:00:26.9]} 33. Rg1 {[%clk 0:00:31.3]} 33... Rb8 {[%clk 0:00:24.3]} 34. b4 {[%clk 0:00:30.9]} 34... d4 {[%clk 0:00:23.8]} 35. Bd3 {[%clk 0:00:29.6]} 35... dxc3 {[%clk 0:00:21.2]} 36. Bxe4 {[%clk 0:00:28]} 36... Qxe4+ {[%clk 0:00:21.1]} 37. Qe3 {[%clk 0:00:27.9]} 37... Qc2+ {[%clk 0:00:20.6]} 38. Kf1 {[%clk 0:00:26.3]} 38... Rh5 {[%clk 0:00:20]} 39. Rc1 {[%clk 0:00:25.9]} 39... Qb2 {[%clk 0:00:19]} 40. Qxc3 {[%clk 0:00:25.5]} 40... Qxb4 {[%clk 0:00:18.4]} 41. Qxb4 {[%clk 0:00:24.7]} 41... Rxb4 {[%clk 0:00:18.3]} 42. Kf2 {[%clk 0:00:24.3]} 42... Rb2+ {[%clk 0:00:17.5]} 43. Kg3 {[%clk 0:00:23]} 43... Rb7 {[%clk 0:00:16.9]} 44. Rc8+ {[%clk 0:00:22.6]} 44... Kh7 {[%clk 0:00:16.6]} 45. Rgc1 {[%clk 0:00:22.2]} 45... f6 {[%clk 0:00:16.3]} 46. R1c7 {[%clk 0:00:21.6]} 46... Rxc7 {[%clk 0:00:15.9]} 47. Rxc7 {[%clk 0:00:21.5]} 47... Ra5 {[%clk 0:00:15.1]} 48. Nd4 {[%clk 0:00:21.2]} 48... e5 {[%clk 0:00:14.7]} 49. Nf5 {[%clk 0:00:20.7]} 49... Kg6 {[%clk 0:00:14.6]} 50. Ne7+ {[%clk 0:00:20]} 50... Kg5 {[%clk 0:00:14]} 51. Nc6 {[%clk 0:00:19.9]} 51... Ra3+ {[%clk 0:00:13]} 52. Kf2 {[%clk 0:00:19.3]} 52... g6 {[%clk 0:00:12.9]} 53. Nd8 {[%clk 0:00:18.3]} 53... Ra2+ {[%clk 0:00:12.4]} 54. Kg3 {[%clk 0:00:17.9]} 54... Kf5 {[%clk 0:00:12.2]} 55. Nf7 {[%clk 0:00:17.1]} 55... Ra3+ {[%clk 0:00:12]} 56. Kh2 {[%clk 0:00:16.9]} 56... Ke6 {[%clk 0:00:11.6]} 57. Nd8+ {[%clk 0:00:16.3]} 57... Kd5 {[%clk 0:00:11]} 58. Rh7 {[%clk 0:00:16.2]} 58... Ke4 {[%clk 0:00:10.7]} 59. Rd7 {[%clk 0:00:15.8]} 59... f5 {[%clk 0:00:09.9]} 60. Ne6 {[%clk 0:00:15.4]} 60... f4 {[%clk 0:00:09.8]} 61. Nc5+ {[%clk 0:00:14.9]} 61... Kf5 {[%clk 0:00:09.7]} 62. Rf7+ {[%clk 0:00:14.4]} 62... Kg4 {[%clk 0:00:09.5]} 63. Ne4 {[%clk 0:00:14]} 63... Re3 {[%clk 0:00:09]} 64. Nf2+ {[%clk 0:00:13.6]} 64... Kg5 {[%clk 0:00:08.9]} 65. Nh3+ {[%clk 0:00:12.9]} 65... Kh6 {[%clk 0:00:08.5]} 66. Nf2 {[%clk 0:00:12.5]} 66... g5 {[%clk 0:00:08.3]} 67. Ng4+ {[%clk 0:00:12.1]} 67... Kg6 {[%clk 0:00:08.2]} 68. Nxe3 {[%clk 0:00:12]} 68... Kxf7 {[%clk 0:00:07.8]} 69. Nc4 {[%clk 0:00:11.8]} 69... Ke6 {[%clk 0:00:07.7]} 70. Na5 {[%clk 0:00:11]} 70... e4 {[%clk 0:00:07.6]} 71. Kh3 {[%clk 0:00:10.6]} 71... e3 {[%clk 0:00:07.5]} 72. Nb3 {[%clk 0:00:09.2]} 72... Kd5 {[%clk 0:00:07.4]} 73. Kg4 {[%clk 0:00:08.4]} 73... e2 {[%clk 0:00:06.6]} 74. Nd2 {[%clk 0:00:07.7]} 74... e1=Q {[%clk 0:00:06.5]} 75. Nf3 {[%clk 0:00:07.6]} 75... Qg3+ {[%clk 0:00:05.9]} 76. Kf5 {[%clk 0:00:07.3]} 76... Qxg2 {[%clk 0:00:05.8]} 77. Nxg5 {[%clk 0:00:06.9]} 77... Qxg5+ {[%clk 0:00:05.2]} 78. Kxg5 {[%clk 0:00:06.3]} 78... f3 {[%clk 0:00:05.1]} 79. Kf4 {[%clk 0:00:05.8]} 79... f2 {[%clk 0:00:05]} 80. Ke3 {[%clk 0:00:05]} 80... f1=Q {[%clk 0:00:04.9]} 81. Kd2 {[%clk 0:00:04.9]} 81... Qc4 {[%clk 0:00:04.8]} 82. Ke3 {[%clk 0:00:04.4]} 82... a5 {[%clk 0:00:04.7]} 83. Kd2 {[%clk 0:00:03.8]} 83... a4 {[%clk 0:00:04.6]} 0-1'"
      ]
     },
     "execution_count": 12,
     "metadata": {},
     "output_type": "execute_result"
    }
   ],
   "source": [
    "w[0]"
   ]
  },
  {
   "cell_type": "code",
   "execution_count": 14,
   "id": "893f4954-7612-48a6-87b9-ab3d92456e38",
   "metadata": {},
   "outputs": [
    {
     "data": {
      "text/plain": [
       "'https://www.chess.com/game/live/68542929653'"
      ]
     },
     "execution_count": 14,
     "metadata": {},
     "output_type": "execute_result"
    }
   ],
   "source": [
    "get_pgn_item(w[0], \"Link\")"
   ]
  },
  {
   "cell_type": "code",
   "execution_count": 36,
   "id": "62b28a90-263a-4957-ad6e-d7b6a530521c",
   "metadata": {
    "tags": []
   },
   "outputs": [],
   "source": [
    "games = [game for game in w if clean_games(game)]"
   ]
  },
  {
   "cell_type": "code",
   "execution_count": 37,
   "id": "5a7e0ee3-fa83-400a-9529-5c67316c2f45",
   "metadata": {
    "tags": []
   },
   "outputs": [
    {
     "data": {
      "text/plain": [
       "1344"
      ]
     },
     "execution_count": 37,
     "metadata": {},
     "output_type": "execute_result"
    }
   ],
   "source": [
    "len(w)"
   ]
  },
  {
   "cell_type": "code",
   "execution_count": 15,
   "id": "d94b7526-40af-45dc-994b-1fd7b70d812d",
   "metadata": {
    "tags": []
   },
   "outputs": [
    {
     "data": {
      "text/plain": [
       "68542929653"
      ]
     },
     "execution_count": 15,
     "metadata": {},
     "output_type": "execute_result"
    }
   ],
   "source": [
    "int(get_pgn_item(w[0], \"[Link\").split(\"/\")[-1])"
   ]
  },
  {
   "cell_type": "code",
   "execution_count": 41,
   "id": "77977784-252c-49ab-989e-58dc83aadfd1",
   "metadata": {
    "tags": []
   },
   "outputs": [],
   "source": [
    "players_and_game_id = np.array(\n",
    "        [\n",
    "            [\n",
    "                get_pgn_item(game, \"White\").lower(),\n",
    "                get_pgn_item(game, \"Black\").lower(),\n",
    "                int(get_pgn_item(game, \"[Link\").split(\"/\")[-1]),\n",
    "            ]\n",
    "            for game in games\n",
    "        ]\n",
    "    )"
   ]
  },
  {
   "cell_type": "code",
   "execution_count": 42,
   "id": "6b0b5eab-81f5-411f-8041-e516abceb348",
   "metadata": {
    "tags": []
   },
   "outputs": [
    {
     "data": {
      "text/plain": [
       "array([['hikaru', 'njal28', '74057526727'],\n",
       "       ['njal28', 'hikaru', '74057452511'],\n",
       "       ['hikaru', 'njal28', '74056933645'],\n",
       "       ...,\n",
       "       ['hikaru', 'gmleonlivaic', '69010411945'],\n",
       "       ['hikaru', 'oleksandr_bortnyk', '69010258731'],\n",
       "       ['hikaru', 'danielnaroditsky', '69009850063']], dtype='<U25')"
      ]
     },
     "execution_count": 42,
     "metadata": {},
     "output_type": "execute_result"
    }
   ],
   "source": [
    "players_and_game_id"
   ]
  },
  {
   "cell_type": "code",
   "execution_count": null,
   "id": "341981df-6e45-4263-8e70-9f4df7c9d807",
   "metadata": {},
   "outputs": [],
   "source": []
  },
  {
   "cell_type": "code",
   "execution_count": 3,
   "id": "230bee19-e11f-4528-9cf1-d01111194408",
   "metadata": {
    "tags": []
   },
   "outputs": [],
   "source": [
    "def create_month(params: list) -> None:\n",
    "    \"\"\"\n",
    "    Download a month, splits the games and return a list of pgn games.\n",
    "    \"\"\"\n",
    "    pgn = download_month(params[\"player_name\"], params[\"year\"], params[\"month\"])\n",
    "    if pgn == False:\n",
    "        params[\"return_games\"].extend(False)\n",
    "        return\n",
    "    games = pgn.read().split(\"\\n\\n\\n\")\n",
    "    return games"
   ]
  },
  {
   "cell_type": "code",
   "execution_count": 4,
   "id": "66003c83-e033-4212-8ed9-e772418ca731",
   "metadata": {
    "tags": []
   },
   "outputs": [],
   "source": [
    "pgn = download_month('hikaru', '2023', '1')"
   ]
  },
  {
   "cell_type": "code",
   "execution_count": 6,
   "id": "54013356-593e-4af8-bc3f-5b77d04d21b3",
   "metadata": {
    "tags": []
   },
   "outputs": [],
   "source": [
    "pgn = pgn.read().split(\"\\n\\n\\n\")"
   ]
  },
  {
   "cell_type": "code",
   "execution_count": 2,
   "id": "b8f5cc6a-e582-4a1e-aef1-2ec3f4698543",
   "metadata": {},
   "outputs": [],
   "source": [
    "def get_ask_connection():\n",
    "    CONN_STRING = os.getenv(\"PSYCOPG2_CONN_STRING\")\n",
    "    return psycopg2.connect(CONN_STRING, port = 5433)\n",
    "\n",
    "\n",
    "def player_exists_at_db(player_name: str):\n",
    "    conn = get_ask_connection()\n",
    "    with conn.cursor() as curs:\n",
    "        curs.execute(\n",
    "            f\"select player_name from player where player_name='{player_name}'\"\n",
    "        )\n",
    "        result = curs.fetchall()\n",
    "    if len(result) == 1:\n",
    "        return True\n",
    "    return False\n",
    "def get_games(player_name: str):\n",
    "    conn = get_ask_connection()\n",
    "    with conn.cursor() as curs:\n",
    "        curs.execute(\n",
    "            f\"select id from game where white='{player_name}'\"\n",
    "        )\n",
    "        result = curs.fetchall()\n",
    "    return result\n",
    "def get_all_players():\n",
    "    conn = get_ask_connection()\n",
    "    with conn.cursor() as curs:\n",
    "        curs.execute(\n",
    "            f\"select player_name from player\"\n",
    "        )\n",
    "        result = curs.fetchall()\n",
    "    return result\n",
    "def open_request(sql_question:str):\n",
    "    conn = get_ask_connection()\n",
    "    with conn.cursor() as curs:\n",
    "        curs.execute(\n",
    "            sql_question\n",
    "        )\n",
    "        result = curs.fetchall()\n",
    "    return result"
   ]
  },
  {
   "cell_type": "code",
   "execution_count": 4,
   "id": "78f74584-5e21-4231-bbdb-ab4f124f5309",
   "metadata": {},
   "outputs": [
    {
     "data": {
      "text/plain": [
       "[]"
      ]
     },
     "execution_count": 4,
     "metadata": {},
     "output_type": "execute_result"
    }
   ],
   "source": [
    "open_request(f\"select id from game where game.id = 132\")"
   ]
  },
  {
   "cell_type": "code",
   "execution_count": null,
   "id": "7a01d3ce-127e-4b43-888a-4fc4fe8f0876",
   "metadata": {},
   "outputs": [],
   "source": []
  },
  {
   "cell_type": "code",
   "execution_count": null,
   "id": "d18d4760-7934-4825-b809-ed296dbf744c",
   "metadata": {},
   "outputs": [],
   "source": []
  },
  {
   "cell_type": "code",
   "execution_count": null,
   "id": "3ab0723e-1c4e-4d34-b54f-fa7f9811f734",
   "metadata": {
    "tags": []
   },
   "outputs": [],
   "source": [
    "get_all_players()"
   ]
  },
  {
   "cell_type": "code",
   "execution_count": 6,
   "id": "2e79129f-b35b-4ac4-ae2e-f9be295965a6",
   "metadata": {},
   "outputs": [
    {
     "data": {
      "text/plain": [
       "True"
      ]
     },
     "execution_count": 6,
     "metadata": {},
     "output_type": "execute_result"
    }
   ],
   "source": [
    "player_exists_at_db('hikaru'.lower())"
   ]
  },
  {
   "cell_type": "code",
   "execution_count": 3,
   "id": "0ca8b482-f950-4630-b845-88fbac0211ae",
   "metadata": {},
   "outputs": [
    {
     "data": {
      "text/plain": [
       "False"
      ]
     },
     "execution_count": 3,
     "metadata": {},
     "output_type": "execute_result"
    }
   ],
   "source": [
    "get_profile('sdssssdfssssssssssssss')"
   ]
  },
  {
   "cell_type": "code",
   "execution_count": 5,
   "id": "c7104b71-beb6-41b4-afec-329f0ab78fb3",
   "metadata": {},
   "outputs": [],
   "source": [
    "player_name = 'Pat_Buchanan'"
   ]
  },
  {
   "cell_type": "code",
   "execution_count": 6,
   "id": "a4edaf57-82d8-4285-a486-6a6cfb38e571",
   "metadata": {},
   "outputs": [],
   "source": [
    "prof = get_profile(player_name)"
   ]
  },
  {
   "cell_type": "code",
   "execution_count": 7,
   "id": "be7f2b8e-8990-48c3-97c1-b75d9fae4e01",
   "metadata": {},
   "outputs": [
    {
     "data": {
      "text/plain": [
       "{'avatar': 'https://images.chesscomfiles.com/uploads/v1/user/29584920.b3462b3c.200x200o.b4b455f59035.jpeg',\n",
       " 'player_id': 29584920,\n",
       " '@id': 'https://api.chess.com/pub/player/pat_buchanan',\n",
       " 'url': 'https://www.chess.com/member/Pat_Buchanan',\n",
       " 'name': 'Pat Buchanan',\n",
       " 'username': 'pat_buchanan',\n",
       " 'followers': 98,\n",
       " 'country': 'https://api.chess.com/pub/country/MX',\n",
       " 'location': 'Ciudad de M&eacute;xico',\n",
       " 'last_online': 1697477530,\n",
       " 'joined': 1471850943,\n",
       " 'status': 'basic',\n",
       " 'is_streamer': False,\n",
       " 'verified': False,\n",
       " 'league': 'Legend'}"
      ]
     },
     "execution_count": 7,
     "metadata": {},
     "output_type": "execute_result"
    }
   ],
   "source": [
    "prof"
   ]
  },
  {
   "cell_type": "code",
   "execution_count": 5,
   "id": "02d0da3c-0489-45f8-a65d-9e385d2a2e91",
   "metadata": {},
   "outputs": [
    {
     "data": {
      "text/plain": [
       "dict"
      ]
     },
     "execution_count": 5,
     "metadata": {},
     "output_type": "execute_result"
    }
   ],
   "source": [
    "type(prof)"
   ]
  },
  {
   "cell_type": "code",
   "execution_count": 8,
   "id": "7b50b8cf-c206-4200-8b6c-922e84fadd75",
   "metadata": {},
   "outputs": [],
   "source": [
    "country = prof.pop('country').split('/')[-1]"
   ]
  },
  {
   "cell_type": "code",
   "execution_count": 9,
   "id": "1093209b-2831-4b1c-aa25-26feedf3dfef",
   "metadata": {},
   "outputs": [
    {
     "data": {
      "text/plain": [
       "'MX'"
      ]
     },
     "execution_count": 9,
     "metadata": {},
     "output_type": "execute_result"
    }
   ],
   "source": [
    "country"
   ]
  },
  {
   "cell_type": "code",
   "execution_count": null,
   "id": "2bf6c1a0-fabd-49f2-9f10-3df0e84aa73d",
   "metadata": {},
   "outputs": [],
   "source": []
  },
  {
   "cell_type": "code",
   "execution_count": 3,
   "id": "2ce599f8-05b4-45d3-b47a-3c139990f183",
   "metadata": {},
   "outputs": [
    {
     "data": {
      "text/plain": [
       "True"
      ]
     },
     "execution_count": 3,
     "metadata": {},
     "output_type": "execute_result"
    }
   ],
   "source": [
    "member_exists(player_name = 'hikaru')"
   ]
  },
  {
   "cell_type": "code",
   "execution_count": null,
   "id": "449f34ba-db92-4de4-b782-b5a3c14bc6ba",
   "metadata": {},
   "outputs": [],
   "source": []
  },
  {
   "cell_type": "code",
   "execution_count": null,
   "id": "e723e79b-4324-4e68-8b1e-a5f9ee2498b2",
   "metadata": {},
   "outputs": [],
   "source": []
  },
  {
   "cell_type": "code",
   "execution_count": null,
   "id": "4d4b10fd-37b2-4fc7-b338-92ad24125530",
   "metadata": {},
   "outputs": [],
   "source": []
  },
  {
   "cell_type": "code",
   "execution_count": 8,
   "id": "56498ce1-3fbd-4f4b-85f3-9cd35eccbe8e",
   "metadata": {},
   "outputs": [],
   "source": [
    "from database.operations.models import PlayerCreateData, PlayerResult"
   ]
  },
  {
   "cell_type": "code",
   "execution_count": 17,
   "id": "77294b71-53f1-4490-b1c2-6441ab47d721",
   "metadata": {},
   "outputs": [],
   "source": [
    "profile = get_profile('pat_buchanan')"
   ]
  },
  {
   "cell_type": "code",
   "execution_count": 18,
   "id": "c0cc7ab4-ab24-46e1-ba88-a1ce94065990",
   "metadata": {},
   "outputs": [
    {
     "data": {
      "text/plain": [
       "'https://api.chess.com/pub/player/pat_buchanan'"
      ]
     },
     "execution_count": 18,
     "metadata": {},
     "output_type": "execute_result"
    }
   ],
   "source": [
    "profile.pop('@id')"
   ]
  },
  {
   "cell_type": "code",
   "execution_count": 19,
   "id": "f7120cbb-4f9b-490a-8d5f-2ba998ebb007",
   "metadata": {},
   "outputs": [],
   "source": [
    "p_name = profile.pop('name')"
   ]
  },
  {
   "cell_type": "code",
   "execution_count": 20,
   "id": "3205380e-d26d-4407-9548-4e27e61511ee",
   "metadata": {},
   "outputs": [
    {
     "data": {
      "text/plain": [
       "'Pat Buchanan'"
      ]
     },
     "execution_count": 20,
     "metadata": {},
     "output_type": "execute_result"
    }
   ],
   "source": [
    "p_name"
   ]
  },
  {
   "cell_type": "code",
   "execution_count": 11,
   "id": "fca0c1ac-cc5c-4fb1-9d53-845e34146a5a",
   "metadata": {},
   "outputs": [
    {
     "data": {
      "text/plain": [
       "{'avatar': 'https://images.chesscomfiles.com/uploads/v1/user/29584920.b3462b3c.200x200o.b4b455f59035.jpeg',\n",
       " 'player_id': 29584920,\n",
       " 'url': 'https://www.chess.com/member/Pat_Buchanan',\n",
       " 'name': 'Pat Buchanan',\n",
       " 'username': 'pat_buchanan',\n",
       " 'followers': 98,\n",
       " 'country': 'https://api.chess.com/pub/country/MX',\n",
       " 'location': 'Ciudad de M&eacute;xico',\n",
       " 'last_online': 1697477530,\n",
       " 'joined': 1471850943,\n",
       " 'status': 'basic',\n",
       " 'is_streamer': False,\n",
       " 'verified': False,\n",
       " 'league': 'Legend'}"
      ]
     },
     "execution_count": 11,
     "metadata": {},
     "output_type": "execute_result"
    }
   ],
   "source": [
    "profile"
   ]
  },
  {
   "cell_type": "code",
   "execution_count": 13,
   "id": "cdb309cc-9cba-4371-802e-e9314dc23351",
   "metadata": {},
   "outputs": [],
   "source": [
    "a = PlayerCreateData(**profile)"
   ]
  },
  {
   "cell_type": "code",
   "execution_count": 16,
   "id": "43bb69fa-7792-4eec-8a5b-a8d0238e598c",
   "metadata": {},
   "outputs": [
    {
     "data": {
      "text/plain": [
       "{'avatar': 'https://images.chesscomfiles.com/uploads/v1/user/29584920.b3462b3c.200x200o.b4b455f59035.jpeg',\n",
       " 'player_id': 29584920,\n",
       " 'url': 'https://www.chess.com/member/Pat_Buchanan',\n",
       " 'name': 'Pat Buchanan',\n",
       " 'username': 'pat_buchanan',\n",
       " 'followers': 98,\n",
       " 'country': 'https://api.chess.com/pub/country/MX',\n",
       " 'location': 'Ciudad de M&eacute;xico',\n",
       " 'last_online': 1697477530,\n",
       " 'joined': 1471850943,\n",
       " 'status': 'basic',\n",
       " 'is_streamer': False,\n",
       " 'verified': False,\n",
       " 'league': 'Legend'}"
      ]
     },
     "execution_count": 16,
     "metadata": {},
     "output_type": "execute_result"
    }
   ],
   "source": [
    "a.model_dump()"
   ]
  },
  {
   "cell_type": "code",
   "execution_count": null,
   "id": "6c88eba4-957a-4fd0-b72d-b5f50418ebed",
   "metadata": {},
   "outputs": [],
   "source": []
  },
  {
   "cell_type": "code",
   "execution_count": null,
   "id": "3a2b0552-6cef-4b0b-82d8-c2c56268a633",
   "metadata": {},
   "outputs": [],
   "source": []
  },
  {
   "cell_type": "code",
   "execution_count": 25,
   "id": "cc2cd098-62dd-45ef-98c1-93980ff23857",
   "metadata": {},
   "outputs": [
    {
     "ename": "SyntaxError",
     "evalue": "invalid syntax (<ipython-input-25-e62177203b71>, line 1)",
     "output_type": "error",
     "traceback": [
      "\u001b[0;36m  Cell \u001b[0;32mIn[25], line 1\u001b[0;36m\u001b[0m\n\u001b[0;31m    a = PlayerCreateData(profile**)\u001b[0m\n\u001b[0m                                  ^\u001b[0m\n\u001b[0;31mSyntaxError\u001b[0m\u001b[0;31m:\u001b[0m invalid syntax\n"
     ]
    }
   ],
   "source": []
  },
  {
   "cell_type": "code",
   "execution_count": null,
   "id": "7b80349d-4491-416b-9d3d-d6f52fc9f1e3",
   "metadata": {},
   "outputs": [],
   "source": [
    "class Person(db.Model):\n",
    "    id = db.Column(db.Integer, primary_key=True)\n",
    "\n",
    "    user = db.relationship(\"BankSlip\", foreign_keys='BankSlip.person_user_id', back_populates=\"person_user\")\n",
    "    reference = db.relationship(\"BankSlip\", foreign_keys='BankSlip.person_ref_id', back_populates=\"person_reference\")"
   ]
  },
  {
   "cell_type": "code",
   "execution_count": null,
   "id": "fab05979-88ac-49a2-a7d7-58870b7eb51d",
   "metadata": {},
   "outputs": [],
   "source": []
  },
  {
   "cell_type": "code",
   "execution_count": null,
   "id": "aa338d94-02ed-43b9-afc8-5fc00a9b23b4",
   "metadata": {},
   "outputs": [],
   "source": []
  },
  {
   "cell_type": "code",
   "execution_count": null,
   "id": "6b287d7e-32f1-4af3-8618-464f82b693c9",
   "metadata": {},
   "outputs": [],
   "source": []
  },
  {
   "cell_type": "code",
   "execution_count": null,
   "id": "8c9dccff-8143-440e-aaa2-1f01d458d4a8",
   "metadata": {},
   "outputs": [],
   "source": []
  },
  {
   "cell_type": "code",
   "execution_count": null,
   "id": "f640be0c-4bf2-4f09-9eca-c9b78cce8d7a",
   "metadata": {},
   "outputs": [],
   "source": []
  },
  {
   "cell_type": "code",
   "execution_count": null,
   "id": "91d601a6-c15a-479f-938f-6fcf19a6c84e",
   "metadata": {},
   "outputs": [],
   "source": []
  },
  {
   "cell_type": "code",
   "execution_count": null,
   "id": "b8a9f533-e042-47ec-81ec-3b07cad9c78a",
   "metadata": {},
   "outputs": [],
   "source": []
  },
  {
   "cell_type": "code",
   "execution_count": null,
   "id": "2ac28ab4-2c98-4090-9f09-7249a45ff49e",
   "metadata": {},
   "outputs": [],
   "source": []
  },
  {
   "cell_type": "code",
   "execution_count": null,
   "id": "3059fd1a-e0f0-4c9b-bf3e-05881f5ca366",
   "metadata": {},
   "outputs": [],
   "source": []
  },
  {
   "cell_type": "code",
   "execution_count": null,
   "id": "bdeade2e-1881-4167-bf4d-a04939d54738",
   "metadata": {},
   "outputs": [],
   "source": []
  },
  {
   "cell_type": "code",
   "execution_count": null,
   "id": "daff2932-4dc4-4b81-bdd5-3d9bc9c78cf1",
   "metadata": {},
   "outputs": [],
   "source": []
  },
  {
   "cell_type": "code",
   "execution_count": null,
   "id": "d126c1d4-74f7-4937-afb1-ddb923a70bcd",
   "metadata": {},
   "outputs": [],
   "source": []
  }
 ],
 "metadata": {
  "kernelspec": {
   "display_name": "chess",
   "language": "python",
   "name": "chess"
  },
  "language_info": {
   "codemirror_mode": {
    "name": "ipython",
    "version": 3
   },
   "file_extension": ".py",
   "mimetype": "text/x-python",
   "name": "python",
   "nbconvert_exporter": "python",
   "pygments_lexer": "ipython3",
   "version": "3.9.18"
  }
 },
 "nbformat": 4,
 "nbformat_minor": 5
}
