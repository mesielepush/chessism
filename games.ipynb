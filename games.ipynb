{
 "cells": [
  {
   "cell_type": "code",
   "execution_count": 15,
   "id": "10593581-e48d-4ee0-879d-e64b42d94d3e",
   "metadata": {},
   "outputs": [],
   "source": [
    "import json\n",
    "import pandas as pd\n",
    "import numpy as np\n",
    "from database.operations.chess_com_api import get_profile\n",
    "import requests\n",
    "from dotenv import load_dotenv\n",
    "import io\n",
    "import os\n",
    "import psycopg2\n",
    "from bs4 import BeautifulSoup\n",
    "import joblib"
   ]
  },
  {
   "cell_type": "code",
   "execution_count": 35,
   "id": "c64177a7-3aca-4a35-8bc1-08efc3d4a738",
   "metadata": {},
   "outputs": [],
   "source": [
    "def ask_twice(player_name: str, year: int, month: int):\n",
    "    import time\n",
    "    USER_AGENT = os.getenv('USER_AGENT')\n",
    "    DOWNLOAD_MONTH = (\n",
    "        os.getenv(\"DOWNLOAD_MONTH\")\n",
    "        .replace(\"{player_name}\", player_name)\n",
    "        .replace(\"{year}\", str(year))\n",
    "        .replace(\"{month}\", str(month))\n",
    "    )\n",
    "    games = requests.get(DOWNLOAD_MONTH,\n",
    "                         allow_redirects=True,\n",
    "                         timeout=10,\n",
    "                         headers = {\"User-Agent\": USER_AGENT})\n",
    "    if len(games.content) == 0:\n",
    "        time.sleep(1)\n",
    "        games = requests.get(DOWNLOAD_MONTH,\n",
    "                             allow_redirects=True,\n",
    "                             timeout=3,\n",
    "                             headers = {\"User-Agent\": USER_AGENT})\n",
    "    if len(games.content) == 0:\n",
    "        return False\n",
    "    return games\n",
    "def download_month(player_name: str, year: int, month: int) -> str:\n",
    "    \"\"\"It ask for a month of games of a particular player\n",
    "    the games package is a pgn_txt.\n",
    "    Returns:\n",
    "        io.str\n",
    "    \"\"\"\n",
    "    games = ask_twice(player_name, year, month)\n",
    "    pgn = io.StringIO(games.content.decode().replace(\"'\", '\"'))\n",
    "    return pgn\n",
    "def create_month(params: list) -> None:\n",
    "    \"\"\"\n",
    "    Download a month, splits the games and return a list of pgn games.\n",
    "    \"\"\"\n",
    "    pgn = download_month(params[\"player_name\"], params[\"year\"], params[\"month\"])\n",
    "    if pgn == False:\n",
    "        params[\"return_games\"].extend(False)\n",
    "        return\n",
    "    games = pgn.read().split(\"\\n\\n\\n\")\n",
    "    return games"
   ]
  },
  {
   "cell_type": "code",
   "execution_count": 36,
   "id": "64a2c315-ad83-4213-8a3b-45171c0dea0b",
   "metadata": {},
   "outputs": [],
   "source": [
    "data = {}\n",
    "data[\"player_name\"] = 'hikaru'\n",
    "data['year'] = 2023\n",
    "data['month'] = 6"
   ]
  },
  {
   "cell_type": "code",
   "execution_count": 41,
   "id": "f4781aae-adc2-4bfc-82cf-df11e1767475",
   "metadata": {},
   "outputs": [],
   "source": [
    "e = create_month(data)"
   ]
  },
  {
   "cell_type": "code",
   "execution_count": null,
   "id": "cb1e7550-2efb-4ed8-9d92-df6db569ffd2",
   "metadata": {},
   "outputs": [],
   "source": []
  },
  {
   "cell_type": "code",
   "execution_count": null,
   "id": "3becfeee-565a-4a65-a900-d33265d6959d",
   "metadata": {},
   "outputs": [],
   "source": []
  },
  {
   "cell_type": "code",
   "execution_count": null,
   "id": "ac98e49d-5ab6-47d6-a5bb-97c7401d0856",
   "metadata": {},
   "outputs": [],
   "source": []
  },
  {
   "cell_type": "code",
   "execution_count": null,
   "id": "0ee620ae-a727-49e6-95e3-1db72d0e25b2",
   "metadata": {},
   "outputs": [],
   "source": []
  },
  {
   "cell_type": "code",
   "execution_count": null,
   "id": "df6cae31-8572-4fd0-a034-2436118029fa",
   "metadata": {},
   "outputs": [],
   "source": [
    "d = joblib.load('')"
   ]
  },
  {
   "cell_type": "code",
   "execution_count": null,
   "id": "7f96ec36-30f1-463a-9d34-ce9a721006e1",
   "metadata": {},
   "outputs": [],
   "source": []
  },
  {
   "cell_type": "code",
   "execution_count": null,
   "id": "0eb71a5a-0aaf-4706-8cb1-5fca0f8e1dc5",
   "metadata": {},
   "outputs": [],
   "source": []
  },
  {
   "cell_type": "code",
   "execution_count": null,
   "id": "efdfad15-876d-4880-851b-d3104a174d23",
   "metadata": {},
   "outputs": [],
   "source": []
  },
  {
   "cell_type": "code",
   "execution_count": null,
   "id": "73e3f695-cfea-496a-a3f1-8071a406bb49",
   "metadata": {},
   "outputs": [],
   "source": []
  },
  {
   "cell_type": "code",
   "execution_count": 6,
   "id": "e94778b2-75c9-40a6-aa4c-c512ac9b9468",
   "metadata": {},
   "outputs": [],
   "source": [
    "l = '2022_1-2023_1'"
   ]
  },
  {
   "cell_type": "code",
   "execution_count": 9,
   "id": "0d2d8b01-6b27-4cc4-a56d-f34df63f7345",
   "metadata": {},
   "outputs": [],
   "source": [
    "l='2055520_5-2023_7'"
   ]
  },
  {
   "cell_type": "code",
   "execution_count": 10,
   "id": "6137cb67-0a96-448a-8e8e-b4df5191cccf",
   "metadata": {},
   "outputs": [],
   "source": [
    "from_year = l.split('-')[0].split('_')[0]\n",
    "from_month = l.split('-')[0].split('_')[1]\n",
    "to_year = l.split('-')[1].split('_')[0]\n",
    "to_month = l.split('-')[1].split('_')[1]"
   ]
  },
  {
   "cell_type": "code",
   "execution_count": null,
   "id": "adf0a59e-38ab-40f2-ae32-57b66bfdc82f",
   "metadata": {},
   "outputs": [],
   "source": []
  },
  {
   "cell_type": "code",
   "execution_count": 8,
   "id": "749c4083-676c-4d43-8434-6f148806d767",
   "metadata": {},
   "outputs": [
    {
     "data": {
      "text/plain": [
       "2"
      ]
     },
     "execution_count": 8,
     "metadata": {},
     "output_type": "execute_result"
    }
   ],
   "source": [
    "l.count('_')"
   ]
  },
  {
   "cell_type": "code",
   "execution_count": 7,
   "id": "435016f5-4eab-4572-a26b-19c376804d6b",
   "metadata": {},
   "outputs": [
    {
     "data": {
      "text/plain": [
       "13"
      ]
     },
     "execution_count": 7,
     "metadata": {},
     "output_type": "execute_result"
    }
   ],
   "source": [
    "len(l)"
   ]
  },
  {
   "cell_type": "code",
   "execution_count": null,
   "id": "5f1663d1-5a65-47d3-9e99-01216866713f",
   "metadata": {},
   "outputs": [],
   "source": [
    "15,14,13"
   ]
  },
  {
   "cell_type": "code",
   "execution_count": null,
   "id": "ee01272c-d182-42bb-ae19-0579c87ef124",
   "metadata": {},
   "outputs": [],
   "source": [
    "l = "
   ]
  },
  {
   "cell_type": "code",
   "execution_count": null,
   "id": "33cc6940-be53-4556-bfb9-54e9dcb1a908",
   "metadata": {},
   "outputs": [],
   "source": [
    "from_year, from_month, to_year, to_month = l[]"
   ]
  },
  {
   "cell_type": "code",
   "execution_count": null,
   "id": "ecdebecd-1803-4acf-ba46-be5c59c58c74",
   "metadata": {},
   "outputs": [],
   "source": []
  },
  {
   "cell_type": "code",
   "execution_count": null,
   "id": "a0d40329-f419-4645-bbc8-0975a70c4ba7",
   "metadata": {},
   "outputs": [],
   "source": []
  },
  {
   "cell_type": "code",
   "execution_count": 6,
   "id": "8fd4020d-a454-4221-bd2c-1ccff233f408",
   "metadata": {},
   "outputs": [],
   "source": [
    "def ask_twice(player_name: str, year: int, month: int):\n",
    "    import time\n",
    "\n",
    "    DOWNLOAD_MONTH = (\n",
    "        os.getenv(\"DOWNLOAD_MONTH\")\n",
    "        .replace(\"{player_name}\", player_name)\n",
    "        .replace(\"{year}\", str(year))\n",
    "        .replace(\"{month}\", str(month))\n",
    "    )\n",
    "    games = requests.get(DOWNLOAD_MONTH, allow_redirects=True, timeout=10)\n",
    "    if len(games.content) == 0:\n",
    "        time.sleep(1)\n",
    "        games = requests.get(DOWNLOAD_MONTH, allow_redirects=True, timeout=10)\n",
    "    if len(games.content) == 0:\n",
    "        return False\n",
    "    return games"
   ]
  },
  {
   "cell_type": "code",
   "execution_count": 7,
   "id": "16c35f1e-4409-4970-b4bb-98f06c8462fe",
   "metadata": {},
   "outputs": [],
   "source": [
    "def download_month(player_name: str, year: int, month: int) -> str:\n",
    "    \"\"\"It ask for a month of games for a particular player\n",
    "    the games package is a pgn_txt.\n",
    "    Returns:\n",
    "        io.str\n",
    "    \"\"\"\n",
    "    games = ask_twice(player_name, year, month)\n",
    "    pgn = io.StringIO(games.content.decode().replace(\"'\", '\"'))\n",
    "    return pgn"
   ]
  },
  {
   "cell_type": "code",
   "execution_count": 8,
   "id": "6ac1ad58-f070-4dd8-aa0d-dacf9a5b7591",
   "metadata": {},
   "outputs": [],
   "source": [
    "w = download_month('hikaru', year= 2023, month= 6)"
   ]
  },
  {
   "cell_type": "code",
   "execution_count": 9,
   "id": "3b7eb3ce-d180-4439-abd9-453eb9adcb91",
   "metadata": {},
   "outputs": [
    {
     "data": {
      "text/plain": [
       "<_io.StringIO at 0x7f69fc38cca0>"
      ]
     },
     "execution_count": 9,
     "metadata": {},
     "output_type": "execute_result"
    }
   ],
   "source": [
    "w"
   ]
  },
  {
   "cell_type": "code",
   "execution_count": null,
   "id": "fe23cd51-6dec-4264-9e74-2a3469c89c52",
   "metadata": {},
   "outputs": [],
   "source": []
  }
 ],
 "metadata": {
  "kernelspec": {
   "display_name": "chess",
   "language": "python",
   "name": "chess"
  },
  "language_info": {
   "codemirror_mode": {
    "name": "ipython",
    "version": 3
   },
   "file_extension": ".py",
   "mimetype": "text/x-python",
   "name": "python",
   "nbconvert_exporter": "python",
   "pygments_lexer": "ipython3",
   "version": "3.9.18"
  }
 },
 "nbformat": 4,
 "nbformat_minor": 5
}
